{
  "cells": [
    {
      "cell_type": "markdown",
      "metadata": {
        "id": "7L5kheHBTnPB"
      },
      "source": [
        "# Business Understanding"
      ]
    },
    {
      "cell_type": "markdown",
      "metadata": {
        "id": "iQ8fkwPOT2ym"
      },
      "source": [
        "Permasalahan : \n",
        "\n",
        "Budi adalah seorang penjual laptop\n",
        "\n",
        "Saat ini laptop banyak dicari untuk sekolah maupun bekerja\n",
        "\n",
        "Dari data yang dia punya, Budi ingin mengelompokan laptop berdasarkan spek dan ingin mengetahui laptop mana yang harganya turun dratis serta melihat rating-rating laptop\n",
        "\n",
        "Tujuan :\n",
        "\n",
        "Untuk merekomendasikan laptop kepada pelanggan"
      ]
    },
    {
      "cell_type": "markdown",
      "metadata": {
        "id": "dKUMpqySTmP1"
      },
      "source": [
        "# Data Understanding"
      ]
    },
    {
      "cell_type": "code",
      "execution_count": null,
      "metadata": {
        "id": "MZTGadKGeCj6"
      },
      "outputs": [],
      "source": [
        "import pandas as pd # Data Manipulating\n",
        "from pprint import pprint # membuat fungsi print yang lebih kompleks (list, tuple, dict, dll)\n",
        "import numpy as np # Support large multi-dimensional array\n",
        "import matplotlib.pyplot as plt #Basic Plot di Python\n",
        "import seaborn as sns #plot alternatif dari matplotlib dengan beberapa fitur berebeda\n",
        "pd.options.mode.chained_assignment = None  # default='warn\n",
        "pd.set_option('display.float_format', lambda x: '%.2f' % x) # set 2 angka dibelakang koma (desimal)\n",
        "from scipy import stats #keperluan perhitungan statistik\n",
        "from sklearn.pipeline import Pipeline\n",
        "from sklearn.preprocessing import StandardScaler, PolynomialFeatures\n",
        "from sklearn.linear_model import LinearRegression\n",
        "%matplotlib inline"
      ]
    },
    {
      "cell_type": "code",
      "execution_count": null,
      "metadata": {
        "colab": {
          "background_save": true
        },
        "id": "oahuyDhgdkHh",
        "outputId": "1ea5bd0e-306a-46ad-97ea-c50f366865f4"
      },
      "outputs": [
        {
          "name": "stdout",
          "output_type": "stream",
          "text": [
            "Mounted at /content/drive\n"
          ]
        }
      ],
      "source": [
        "#Memasukan data drive ke colab\n",
        "from google.colab import drive\n",
        "drive.mount('/content/drive')"
      ]
    },
    {
      "cell_type": "code",
      "execution_count": null,
      "metadata": {
        "colab": {
          "background_save": true
        },
        "id": "ASLgLmkudpWB"
      },
      "outputs": [],
      "source": [
        "#Import data yang ingin di analisa\n",
        "data_laptop = pd.read_csv(\"/content/drive/MyDrive/Cleaned_Laptop_data.csv\") #Lokasi sesuai data di drive"
      ]
    },
    {
      "cell_type": "markdown",
      "metadata": {
        "id": "Sz6iB79azqQN"
      },
      "source": [
        "| Variable      | Description                                                                                                 |\n",
        "| ------------- | ----------------------------------------------------------------------------------------------------------- |\n",
        "| Brand            | Merk dari laptop                                                                                       |\n",
        "| Model          | Seri dari laptop                                                                                         |\n",
        "| processor_brand        | Merk dari prosessor yang dipakai laptop                                                                               |\n",
        "| processor_name     | Seri dari prosessor yang dipakai laptop                                                                                         |\n",
        "| processor_gnrtn     | Generasi dari prosessor                                                                                         |\n",
        "|ram_gb   | Ukuran RAM laptop                                                                                  |\n",
        "| ram_type      | Tipe RAM                                                                                   |\n",
        "| ssd         | Ukuran SSD                                                                              |\n",
        "| hdd    | Ukuran HDD                                                                      |\n",
        "| os           | Operating system yang digunakan laptop                                                                                            |\n",
        "| os_bit     | Bit pada operating system                                                                   |\n",
        "| graphic_card_gb         | Ukuran VRAM atau Memori pada graphic card                                |\n",
        "| weight    | Kategori berdasarkan Berat laptop                                                                 |\n",
        "| display_size | Ukuran layar                                                                              |\n",
        "| warranty      | Panjang masa garansi                                                                                    |\n",
        "| Touchscreen  | Apakah layar laptop touchscreen atau tidak                                                                               |\n",
        "| msoffice       | Apakah laptop bundlin dengan MS Office atau tidak                                                                                                    |\n",
        "| latest_price           | Harga terbaru                                                                        |\n",
        "| old_price          | Harga sebelumnya                                                                                        |\n",
        "| discount  | Total diskon |\n",
        "| star_rating    | Rating berdasarkan bintang (Skala 0 - 5)                                                            |\n",
        "| ratings    | Jumlah rating (Count)                                                            |\n",
        "| reviews    | Jumlah orang yang mereviews                                                            |"
      ]
    },
    {
      "cell_type": "code",
      "execution_count": null,
      "metadata": {
        "colab": {
          "background_save": true
        },
        "id": "Ae-BpFAOepHy",
        "outputId": "b08742d3-80cb-49d6-cdbd-2443e738204c"
      },
      "outputs": [
        {
          "data": {
            "text/html": [
              "\n",
              "  <div id=\"df-4d44efc9-6b3e-419d-97bc-57579bfb4c4d\">\n",
              "    <div class=\"colab-df-container\">\n",
              "      <div>\n",
              "<style scoped>\n",
              "    .dataframe tbody tr th:only-of-type {\n",
              "        vertical-align: middle;\n",
              "    }\n",
              "\n",
              "    .dataframe tbody tr th {\n",
              "        vertical-align: top;\n",
              "    }\n",
              "\n",
              "    .dataframe thead th {\n",
              "        text-align: right;\n",
              "    }\n",
              "</style>\n",
              "<table border=\"1\" class=\"dataframe\">\n",
              "  <thead>\n",
              "    <tr style=\"text-align: right;\">\n",
              "      <th></th>\n",
              "      <th>brand</th>\n",
              "      <th>model</th>\n",
              "      <th>processor_brand</th>\n",
              "      <th>processor_name</th>\n",
              "      <th>processor_gnrtn</th>\n",
              "      <th>ram_gb</th>\n",
              "      <th>ram_type</th>\n",
              "      <th>ssd</th>\n",
              "      <th>hdd</th>\n",
              "      <th>os</th>\n",
              "      <th>...</th>\n",
              "      <th>display_size</th>\n",
              "      <th>warranty</th>\n",
              "      <th>Touchscreen</th>\n",
              "      <th>msoffice</th>\n",
              "      <th>latest_price</th>\n",
              "      <th>old_price</th>\n",
              "      <th>discount</th>\n",
              "      <th>star_rating</th>\n",
              "      <th>ratings</th>\n",
              "      <th>reviews</th>\n",
              "    </tr>\n",
              "  </thead>\n",
              "  <tbody>\n",
              "    <tr>\n",
              "      <th>0</th>\n",
              "      <td>ASUS</td>\n",
              "      <td>Celeron</td>\n",
              "      <td>Intel</td>\n",
              "      <td>Celeron Dual</td>\n",
              "      <td>Missing</td>\n",
              "      <td>4</td>\n",
              "      <td>DDR4</td>\n",
              "      <td>0</td>\n",
              "      <td>1024</td>\n",
              "      <td>Windows</td>\n",
              "      <td>...</td>\n",
              "      <td>15.6</td>\n",
              "      <td>1</td>\n",
              "      <td>No</td>\n",
              "      <td>No</td>\n",
              "      <td>23990</td>\n",
              "      <td>26990</td>\n",
              "      <td>11</td>\n",
              "      <td>3.80</td>\n",
              "      <td>15279</td>\n",
              "      <td>1947</td>\n",
              "    </tr>\n",
              "    <tr>\n",
              "      <th>1</th>\n",
              "      <td>ASUS</td>\n",
              "      <td>VivoBook</td>\n",
              "      <td>Intel</td>\n",
              "      <td>Core i3</td>\n",
              "      <td>10th</td>\n",
              "      <td>8</td>\n",
              "      <td>DDR4</td>\n",
              "      <td>512</td>\n",
              "      <td>0</td>\n",
              "      <td>Windows</td>\n",
              "      <td>...</td>\n",
              "      <td>15.6</td>\n",
              "      <td>1</td>\n",
              "      <td>No</td>\n",
              "      <td>No</td>\n",
              "      <td>37990</td>\n",
              "      <td>50990</td>\n",
              "      <td>25</td>\n",
              "      <td>4.30</td>\n",
              "      <td>990</td>\n",
              "      <td>108</td>\n",
              "    </tr>\n",
              "    <tr>\n",
              "      <th>2</th>\n",
              "      <td>ASUS</td>\n",
              "      <td>Vivobook</td>\n",
              "      <td>Intel</td>\n",
              "      <td>Core i3</td>\n",
              "      <td>10th</td>\n",
              "      <td>8</td>\n",
              "      <td>DDR4</td>\n",
              "      <td>0</td>\n",
              "      <td>1024</td>\n",
              "      <td>Windows</td>\n",
              "      <td>...</td>\n",
              "      <td>14.1</td>\n",
              "      <td>1</td>\n",
              "      <td>No</td>\n",
              "      <td>No</td>\n",
              "      <td>32890</td>\n",
              "      <td>46990</td>\n",
              "      <td>30</td>\n",
              "      <td>3.90</td>\n",
              "      <td>28</td>\n",
              "      <td>4</td>\n",
              "    </tr>\n",
              "    <tr>\n",
              "      <th>3</th>\n",
              "      <td>HP</td>\n",
              "      <td>Core</td>\n",
              "      <td>Intel</td>\n",
              "      <td>Core i3</td>\n",
              "      <td>11th</td>\n",
              "      <td>8</td>\n",
              "      <td>DDR4</td>\n",
              "      <td>512</td>\n",
              "      <td>0</td>\n",
              "      <td>Windows</td>\n",
              "      <td>...</td>\n",
              "      <td>15.6</td>\n",
              "      <td>1</td>\n",
              "      <td>No</td>\n",
              "      <td>Yes</td>\n",
              "      <td>42990</td>\n",
              "      <td>57330</td>\n",
              "      <td>25</td>\n",
              "      <td>4.40</td>\n",
              "      <td>158</td>\n",
              "      <td>18</td>\n",
              "    </tr>\n",
              "    <tr>\n",
              "      <th>4</th>\n",
              "      <td>HP</td>\n",
              "      <td>Core</td>\n",
              "      <td>Intel</td>\n",
              "      <td>Core i5</td>\n",
              "      <td>11th</td>\n",
              "      <td>8</td>\n",
              "      <td>DDR4</td>\n",
              "      <td>512</td>\n",
              "      <td>0</td>\n",
              "      <td>Windows</td>\n",
              "      <td>...</td>\n",
              "      <td>15.6</td>\n",
              "      <td>0</td>\n",
              "      <td>No</td>\n",
              "      <td>No</td>\n",
              "      <td>54990</td>\n",
              "      <td>70171</td>\n",
              "      <td>21</td>\n",
              "      <td>4.20</td>\n",
              "      <td>116</td>\n",
              "      <td>15</td>\n",
              "    </tr>\n",
              "  </tbody>\n",
              "</table>\n",
              "<p>5 rows × 23 columns</p>\n",
              "</div>\n",
              "      <button class=\"colab-df-convert\" onclick=\"convertToInteractive('df-4d44efc9-6b3e-419d-97bc-57579bfb4c4d')\"\n",
              "              title=\"Convert this dataframe to an interactive table.\"\n",
              "              style=\"display:none;\">\n",
              "        \n",
              "  <svg xmlns=\"http://www.w3.org/2000/svg\" height=\"24px\"viewBox=\"0 0 24 24\"\n",
              "       width=\"24px\">\n",
              "    <path d=\"M0 0h24v24H0V0z\" fill=\"none\"/>\n",
              "    <path d=\"M18.56 5.44l.94 2.06.94-2.06 2.06-.94-2.06-.94-.94-2.06-.94 2.06-2.06.94zm-11 1L8.5 8.5l.94-2.06 2.06-.94-2.06-.94L8.5 2.5l-.94 2.06-2.06.94zm10 10l.94 2.06.94-2.06 2.06-.94-2.06-.94-.94-2.06-.94 2.06-2.06.94z\"/><path d=\"M17.41 7.96l-1.37-1.37c-.4-.4-.92-.59-1.43-.59-.52 0-1.04.2-1.43.59L10.3 9.45l-7.72 7.72c-.78.78-.78 2.05 0 2.83L4 21.41c.39.39.9.59 1.41.59.51 0 1.02-.2 1.41-.59l7.78-7.78 2.81-2.81c.8-.78.8-2.07 0-2.86zM5.41 20L4 18.59l7.72-7.72 1.47 1.35L5.41 20z\"/>\n",
              "  </svg>\n",
              "      </button>\n",
              "      \n",
              "  <style>\n",
              "    .colab-df-container {\n",
              "      display:flex;\n",
              "      flex-wrap:wrap;\n",
              "      gap: 12px;\n",
              "    }\n",
              "\n",
              "    .colab-df-convert {\n",
              "      background-color: #E8F0FE;\n",
              "      border: none;\n",
              "      border-radius: 50%;\n",
              "      cursor: pointer;\n",
              "      display: none;\n",
              "      fill: #1967D2;\n",
              "      height: 32px;\n",
              "      padding: 0 0 0 0;\n",
              "      width: 32px;\n",
              "    }\n",
              "\n",
              "    .colab-df-convert:hover {\n",
              "      background-color: #E2EBFA;\n",
              "      box-shadow: 0px 1px 2px rgba(60, 64, 67, 0.3), 0px 1px 3px 1px rgba(60, 64, 67, 0.15);\n",
              "      fill: #174EA6;\n",
              "    }\n",
              "\n",
              "    [theme=dark] .colab-df-convert {\n",
              "      background-color: #3B4455;\n",
              "      fill: #D2E3FC;\n",
              "    }\n",
              "\n",
              "    [theme=dark] .colab-df-convert:hover {\n",
              "      background-color: #434B5C;\n",
              "      box-shadow: 0px 1px 3px 1px rgba(0, 0, 0, 0.15);\n",
              "      filter: drop-shadow(0px 1px 2px rgba(0, 0, 0, 0.3));\n",
              "      fill: #FFFFFF;\n",
              "    }\n",
              "  </style>\n",
              "\n",
              "      <script>\n",
              "        const buttonEl =\n",
              "          document.querySelector('#df-4d44efc9-6b3e-419d-97bc-57579bfb4c4d button.colab-df-convert');\n",
              "        buttonEl.style.display =\n",
              "          google.colab.kernel.accessAllowed ? 'block' : 'none';\n",
              "\n",
              "        async function convertToInteractive(key) {\n",
              "          const element = document.querySelector('#df-4d44efc9-6b3e-419d-97bc-57579bfb4c4d');\n",
              "          const dataTable =\n",
              "            await google.colab.kernel.invokeFunction('convertToInteractive',\n",
              "                                                     [key], {});\n",
              "          if (!dataTable) return;\n",
              "\n",
              "          const docLinkHtml = 'Like what you see? Visit the ' +\n",
              "            '<a target=\"_blank\" href=https://colab.research.google.com/notebooks/data_table.ipynb>data table notebook</a>'\n",
              "            + ' to learn more about interactive tables.';\n",
              "          element.innerHTML = '';\n",
              "          dataTable['output_type'] = 'display_data';\n",
              "          await google.colab.output.renderOutput(dataTable, element);\n",
              "          const docLink = document.createElement('div');\n",
              "          docLink.innerHTML = docLinkHtml;\n",
              "          element.appendChild(docLink);\n",
              "        }\n",
              "      </script>\n",
              "    </div>\n",
              "  </div>\n",
              "  "
            ],
            "text/plain": [
              "  brand     model processor_brand processor_name processor_gnrtn ram_gb  \\\n",
              "0  ASUS   Celeron           Intel   Celeron Dual         Missing      4   \n",
              "1  ASUS  VivoBook           Intel        Core i3            10th      8   \n",
              "2  ASUS  Vivobook           Intel        Core i3            10th      8   \n",
              "3    HP      Core           Intel        Core i3            11th      8   \n",
              "4    HP      Core           Intel        Core i5            11th      8   \n",
              "\n",
              "  ram_type  ssd   hdd       os  ...  display_size  warranty Touchscreen  \\\n",
              "0     DDR4    0  1024  Windows  ...          15.6         1          No   \n",
              "1     DDR4  512     0  Windows  ...          15.6         1          No   \n",
              "2     DDR4    0  1024  Windows  ...          14.1         1          No   \n",
              "3     DDR4  512     0  Windows  ...          15.6         1          No   \n",
              "4     DDR4  512     0  Windows  ...          15.6         0          No   \n",
              "\n",
              "  msoffice  latest_price old_price discount  star_rating  ratings  reviews  \n",
              "0       No         23990     26990       11         3.80    15279     1947  \n",
              "1       No         37990     50990       25         4.30      990      108  \n",
              "2       No         32890     46990       30         3.90       28        4  \n",
              "3      Yes         42990     57330       25         4.40      158       18  \n",
              "4       No         54990     70171       21         4.20      116       15  \n",
              "\n",
              "[5 rows x 23 columns]"
            ]
          },
          "execution_count": null,
          "metadata": {},
          "output_type": "execute_result"
        }
      ],
      "source": [
        "data_laptop.head() #Melihat 5 data teratas"
      ]
    },
    {
      "cell_type": "code",
      "execution_count": null,
      "metadata": {
        "colab": {
          "background_save": true
        },
        "id": "nxb-m8qCzRoM",
        "outputId": "28dfc6f4-69b7-4d49-a7e8-8e361f5cfc58"
      },
      "outputs": [
        {
          "data": {
            "text/plain": [
              "(896, 23)"
            ]
          },
          "execution_count": null,
          "metadata": {},
          "output_type": "execute_result"
        }
      ],
      "source": [
        "data_laptop.shape"
      ]
    },
    {
      "cell_type": "code",
      "execution_count": null,
      "metadata": {
        "colab": {
          "background_save": true
        },
        "id": "hc4Nli9WzRZK",
        "outputId": "b4c14ba1-3c28-4bae-b687-3c8e814518ea"
      },
      "outputs": [
        {
          "name": "stdout",
          "output_type": "stream",
          "text": [
            "<class 'pandas.core.frame.DataFrame'>\n",
            "RangeIndex: 896 entries, 0 to 895\n",
            "Data columns (total 23 columns):\n",
            " #   Column           Non-Null Count  Dtype  \n",
            "---  ------           --------------  -----  \n",
            " 0   brand            896 non-null    object \n",
            " 1   model            896 non-null    object \n",
            " 2   processor_brand  896 non-null    object \n",
            " 3   processor_name   895 non-null    object \n",
            " 4   processor_gnrtn  896 non-null    object \n",
            " 5   ram_gb           871 non-null    object \n",
            " 6   ram_type         871 non-null    object \n",
            " 7   ssd              896 non-null    int64  \n",
            " 8   hdd              896 non-null    int64  \n",
            " 9   os               896 non-null    object \n",
            " 10  os_bit           896 non-null    int64  \n",
            " 11  graphic_card_gb  896 non-null    int64  \n",
            " 12  weight           896 non-null    object \n",
            " 13  display_size     896 non-null    object \n",
            " 14  warranty         896 non-null    int64  \n",
            " 15  Touchscreen      896 non-null    object \n",
            " 16  msoffice         896 non-null    object \n",
            " 17  latest_price     896 non-null    int64  \n",
            " 18  old_price        896 non-null    int64  \n",
            " 19  discount         896 non-null    int64  \n",
            " 20  star_rating      896 non-null    float64\n",
            " 21  ratings          896 non-null    int64  \n",
            " 22  reviews          896 non-null    int64  \n",
            "dtypes: float64(1), int64(10), object(12)\n",
            "memory usage: 161.1+ KB\n"
          ]
        }
      ],
      "source": [
        "data_laptop.info()"
      ]
    },
    {
      "cell_type": "code",
      "execution_count": null,
      "metadata": {
        "colab": {
          "background_save": true
        },
        "id": "KifeFdZkzRXE"
      },
      "outputs": [],
      "source": [
        "df=data_laptop.iloc[:,18:23] #Melihat kolom terkait data numeric penjualan"
      ]
    },
    {
      "cell_type": "code",
      "execution_count": null,
      "metadata": {
        "colab": {
          "background_save": true
        },
        "id": "W8TrghIGzRSI",
        "outputId": "cc8f073d-d492-439f-f5ed-cb1002163084"
      },
      "outputs": [
        {
          "data": {
            "text/html": [
              "\n",
              "  <div id=\"df-6e06a6b1-5802-4067-ac56-d6a05b89d641\">\n",
              "    <div class=\"colab-df-container\">\n",
              "      <div>\n",
              "<style scoped>\n",
              "    .dataframe tbody tr th:only-of-type {\n",
              "        vertical-align: middle;\n",
              "    }\n",
              "\n",
              "    .dataframe tbody tr th {\n",
              "        vertical-align: top;\n",
              "    }\n",
              "\n",
              "    .dataframe thead th {\n",
              "        text-align: right;\n",
              "    }\n",
              "</style>\n",
              "<table border=\"1\" class=\"dataframe\">\n",
              "  <thead>\n",
              "    <tr style=\"text-align: right;\">\n",
              "      <th></th>\n",
              "      <th>old_price</th>\n",
              "      <th>discount</th>\n",
              "      <th>star_rating</th>\n",
              "      <th>ratings</th>\n",
              "      <th>reviews</th>\n",
              "    </tr>\n",
              "  </thead>\n",
              "  <tbody>\n",
              "    <tr>\n",
              "      <th>count</th>\n",
              "      <td>896.00</td>\n",
              "      <td>896.00</td>\n",
              "      <td>896.00</td>\n",
              "      <td>896.00</td>\n",
              "      <td>896.00</td>\n",
              "    </tr>\n",
              "    <tr>\n",
              "      <th>mean</th>\n",
              "      <td>88134.15</td>\n",
              "      <td>18.53</td>\n",
              "      <td>2.98</td>\n",
              "      <td>367.39</td>\n",
              "      <td>46.15</td>\n",
              "    </tr>\n",
              "    <tr>\n",
              "      <th>std</th>\n",
              "      <td>55719.65</td>\n",
              "      <td>10.51</td>\n",
              "      <td>1.97</td>\n",
              "      <td>1106.31</td>\n",
              "      <td>136.08</td>\n",
              "    </tr>\n",
              "    <tr>\n",
              "      <th>min</th>\n",
              "      <td>0.00</td>\n",
              "      <td>0.00</td>\n",
              "      <td>0.00</td>\n",
              "      <td>0.00</td>\n",
              "      <td>0.00</td>\n",
              "    </tr>\n",
              "    <tr>\n",
              "      <th>25%</th>\n",
              "      <td>54940.50</td>\n",
              "      <td>11.00</td>\n",
              "      <td>0.00</td>\n",
              "      <td>0.00</td>\n",
              "      <td>0.00</td>\n",
              "    </tr>\n",
              "    <tr>\n",
              "      <th>50%</th>\n",
              "      <td>78052.50</td>\n",
              "      <td>19.00</td>\n",
              "      <td>4.10</td>\n",
              "      <td>19.00</td>\n",
              "      <td>3.00</td>\n",
              "    </tr>\n",
              "    <tr>\n",
              "      <th>75%</th>\n",
              "      <td>111019.50</td>\n",
              "      <td>26.00</td>\n",
              "      <td>4.40</td>\n",
              "      <td>179.50</td>\n",
              "      <td>23.25</td>\n",
              "    </tr>\n",
              "    <tr>\n",
              "      <th>max</th>\n",
              "      <td>377798.00</td>\n",
              "      <td>57.00</td>\n",
              "      <td>5.00</td>\n",
              "      <td>15279.00</td>\n",
              "      <td>1947.00</td>\n",
              "    </tr>\n",
              "  </tbody>\n",
              "</table>\n",
              "</div>\n",
              "      <button class=\"colab-df-convert\" onclick=\"convertToInteractive('df-6e06a6b1-5802-4067-ac56-d6a05b89d641')\"\n",
              "              title=\"Convert this dataframe to an interactive table.\"\n",
              "              style=\"display:none;\">\n",
              "        \n",
              "  <svg xmlns=\"http://www.w3.org/2000/svg\" height=\"24px\"viewBox=\"0 0 24 24\"\n",
              "       width=\"24px\">\n",
              "    <path d=\"M0 0h24v24H0V0z\" fill=\"none\"/>\n",
              "    <path d=\"M18.56 5.44l.94 2.06.94-2.06 2.06-.94-2.06-.94-.94-2.06-.94 2.06-2.06.94zm-11 1L8.5 8.5l.94-2.06 2.06-.94-2.06-.94L8.5 2.5l-.94 2.06-2.06.94zm10 10l.94 2.06.94-2.06 2.06-.94-2.06-.94-.94-2.06-.94 2.06-2.06.94z\"/><path d=\"M17.41 7.96l-1.37-1.37c-.4-.4-.92-.59-1.43-.59-.52 0-1.04.2-1.43.59L10.3 9.45l-7.72 7.72c-.78.78-.78 2.05 0 2.83L4 21.41c.39.39.9.59 1.41.59.51 0 1.02-.2 1.41-.59l7.78-7.78 2.81-2.81c.8-.78.8-2.07 0-2.86zM5.41 20L4 18.59l7.72-7.72 1.47 1.35L5.41 20z\"/>\n",
              "  </svg>\n",
              "      </button>\n",
              "      \n",
              "  <style>\n",
              "    .colab-df-container {\n",
              "      display:flex;\n",
              "      flex-wrap:wrap;\n",
              "      gap: 12px;\n",
              "    }\n",
              "\n",
              "    .colab-df-convert {\n",
              "      background-color: #E8F0FE;\n",
              "      border: none;\n",
              "      border-radius: 50%;\n",
              "      cursor: pointer;\n",
              "      display: none;\n",
              "      fill: #1967D2;\n",
              "      height: 32px;\n",
              "      padding: 0 0 0 0;\n",
              "      width: 32px;\n",
              "    }\n",
              "\n",
              "    .colab-df-convert:hover {\n",
              "      background-color: #E2EBFA;\n",
              "      box-shadow: 0px 1px 2px rgba(60, 64, 67, 0.3), 0px 1px 3px 1px rgba(60, 64, 67, 0.15);\n",
              "      fill: #174EA6;\n",
              "    }\n",
              "\n",
              "    [theme=dark] .colab-df-convert {\n",
              "      background-color: #3B4455;\n",
              "      fill: #D2E3FC;\n",
              "    }\n",
              "\n",
              "    [theme=dark] .colab-df-convert:hover {\n",
              "      background-color: #434B5C;\n",
              "      box-shadow: 0px 1px 3px 1px rgba(0, 0, 0, 0.15);\n",
              "      filter: drop-shadow(0px 1px 2px rgba(0, 0, 0, 0.3));\n",
              "      fill: #FFFFFF;\n",
              "    }\n",
              "  </style>\n",
              "\n",
              "      <script>\n",
              "        const buttonEl =\n",
              "          document.querySelector('#df-6e06a6b1-5802-4067-ac56-d6a05b89d641 button.colab-df-convert');\n",
              "        buttonEl.style.display =\n",
              "          google.colab.kernel.accessAllowed ? 'block' : 'none';\n",
              "\n",
              "        async function convertToInteractive(key) {\n",
              "          const element = document.querySelector('#df-6e06a6b1-5802-4067-ac56-d6a05b89d641');\n",
              "          const dataTable =\n",
              "            await google.colab.kernel.invokeFunction('convertToInteractive',\n",
              "                                                     [key], {});\n",
              "          if (!dataTable) return;\n",
              "\n",
              "          const docLinkHtml = 'Like what you see? Visit the ' +\n",
              "            '<a target=\"_blank\" href=https://colab.research.google.com/notebooks/data_table.ipynb>data table notebook</a>'\n",
              "            + ' to learn more about interactive tables.';\n",
              "          element.innerHTML = '';\n",
              "          dataTable['output_type'] = 'display_data';\n",
              "          await google.colab.output.renderOutput(dataTable, element);\n",
              "          const docLink = document.createElement('div');\n",
              "          docLink.innerHTML = docLinkHtml;\n",
              "          element.appendChild(docLink);\n",
              "        }\n",
              "      </script>\n",
              "    </div>\n",
              "  </div>\n",
              "  "
            ],
            "text/plain": [
              "       old_price  discount  star_rating  ratings  reviews\n",
              "count     896.00    896.00       896.00   896.00   896.00\n",
              "mean    88134.15     18.53         2.98   367.39    46.15\n",
              "std     55719.65     10.51         1.97  1106.31   136.08\n",
              "min         0.00      0.00         0.00     0.00     0.00\n",
              "25%     54940.50     11.00         0.00     0.00     0.00\n",
              "50%     78052.50     19.00         4.10    19.00     3.00\n",
              "75%    111019.50     26.00         4.40   179.50    23.25\n",
              "max    377798.00     57.00         5.00 15279.00  1947.00"
            ]
          },
          "execution_count": null,
          "metadata": {},
          "output_type": "execute_result"
        }
      ],
      "source": [
        "df.describe() #Melihat summary statistic"
      ]
    },
    {
      "cell_type": "code",
      "execution_count": null,
      "metadata": {
        "colab": {
          "background_save": true
        },
        "id": "e3B2AGKczckv",
        "outputId": "21b421d6-8a7f-40fd-927e-24426ac83d6e"
      },
      "outputs": [
        {
          "data": {
            "text/plain": [
              "brand               0\n",
              "model               0\n",
              "processor_brand     0\n",
              "processor_name      1\n",
              "processor_gnrtn     0\n",
              "ram_gb             25\n",
              "ram_type           25\n",
              "ssd                 0\n",
              "hdd                 0\n",
              "os                  0\n",
              "os_bit              0\n",
              "graphic_card_gb     0\n",
              "weight              0\n",
              "display_size        0\n",
              "warranty            0\n",
              "Touchscreen         0\n",
              "msoffice            0\n",
              "latest_price        0\n",
              "old_price           0\n",
              "discount            0\n",
              "star_rating         0\n",
              "ratings             0\n",
              "reviews             0\n",
              "dtype: int64"
            ]
          },
          "execution_count": null,
          "metadata": {},
          "output_type": "execute_result"
        }
      ],
      "source": [
        "data_laptop.isnull().sum()"
      ]
    },
    {
      "cell_type": "code",
      "execution_count": null,
      "metadata": {
        "colab": {
          "background_save": true
        },
        "id": "0lCfcZHhzcfU",
        "outputId": "db00fbcb-b6ef-4113-cc6f-72bced871789"
      },
      "outputs": [
        {
          "name": "stdout",
          "output_type": "stream",
          "text": [
            "number of NaN values for the column processor_name : 1\n",
            "number of NaN values for the column ram_gb : 25\n",
            "number of NaN values for the column ram_type : 25\n"
          ]
        }
      ],
      "source": [
        "print(\"number of NaN values for the column processor_name :\", data_laptop['processor_name'].isnull().sum())\n",
        "print(\"number of NaN values for the column ram_gb :\", data_laptop['ram_gb'].isnull().sum())\n",
        "print(\"number of NaN values for the column ram_type :\", data_laptop['ram_type'].isnull().sum())"
      ]
    },
    {
      "cell_type": "code",
      "execution_count": null,
      "metadata": {
        "colab": {
          "background_save": true
        },
        "id": "r_aCpWnizjE8",
        "outputId": "b8797ff6-a26d-4a38-86bc-b4c60fad928b"
      },
      "outputs": [
        {
          "data": {
            "text/html": [
              "\n",
              "  <div id=\"df-742af4f4-3efb-406c-b431-a1714599cd29\">\n",
              "    <div class=\"colab-df-container\">\n",
              "      <div>\n",
              "<style scoped>\n",
              "    .dataframe tbody tr th:only-of-type {\n",
              "        vertical-align: middle;\n",
              "    }\n",
              "\n",
              "    .dataframe tbody tr th {\n",
              "        vertical-align: top;\n",
              "    }\n",
              "\n",
              "    .dataframe thead th {\n",
              "        text-align: right;\n",
              "    }\n",
              "</style>\n",
              "<table border=\"1\" class=\"dataframe\">\n",
              "  <thead>\n",
              "    <tr style=\"text-align: right;\">\n",
              "      <th></th>\n",
              "      <th>brand</th>\n",
              "      <th>model</th>\n",
              "      <th>processor_brand</th>\n",
              "      <th>processor_name</th>\n",
              "      <th>processor_gnrtn</th>\n",
              "      <th>ram_gb</th>\n",
              "      <th>ram_type</th>\n",
              "      <th>ssd</th>\n",
              "      <th>hdd</th>\n",
              "      <th>os</th>\n",
              "      <th>...</th>\n",
              "      <th>display_size</th>\n",
              "      <th>warranty</th>\n",
              "      <th>Touchscreen</th>\n",
              "      <th>msoffice</th>\n",
              "      <th>latest_price</th>\n",
              "      <th>old_price</th>\n",
              "      <th>discount</th>\n",
              "      <th>star_rating</th>\n",
              "      <th>ratings</th>\n",
              "      <th>reviews</th>\n",
              "    </tr>\n",
              "  </thead>\n",
              "  <tbody>\n",
              "    <tr>\n",
              "      <th>52</th>\n",
              "      <td>acer</td>\n",
              "      <td>Aspire</td>\n",
              "      <td>AMD</td>\n",
              "      <td>NaN</td>\n",
              "      <td>Missing</td>\n",
              "      <td>NaN</td>\n",
              "      <td>NaN</td>\n",
              "      <td>0</td>\n",
              "      <td>0</td>\n",
              "      <td>Missing</td>\n",
              "      <td>...</td>\n",
              "      <td>0</td>\n",
              "      <td>0</td>\n",
              "      <td>No</td>\n",
              "      <td>No</td>\n",
              "      <td>54990</td>\n",
              "      <td>89000</td>\n",
              "      <td>38</td>\n",
              "      <td>4.50</td>\n",
              "      <td>3190</td>\n",
              "      <td>414</td>\n",
              "    </tr>\n",
              "  </tbody>\n",
              "</table>\n",
              "<p>1 rows × 23 columns</p>\n",
              "</div>\n",
              "      <button class=\"colab-df-convert\" onclick=\"convertToInteractive('df-742af4f4-3efb-406c-b431-a1714599cd29')\"\n",
              "              title=\"Convert this dataframe to an interactive table.\"\n",
              "              style=\"display:none;\">\n",
              "        \n",
              "  <svg xmlns=\"http://www.w3.org/2000/svg\" height=\"24px\"viewBox=\"0 0 24 24\"\n",
              "       width=\"24px\">\n",
              "    <path d=\"M0 0h24v24H0V0z\" fill=\"none\"/>\n",
              "    <path d=\"M18.56 5.44l.94 2.06.94-2.06 2.06-.94-2.06-.94-.94-2.06-.94 2.06-2.06.94zm-11 1L8.5 8.5l.94-2.06 2.06-.94-2.06-.94L8.5 2.5l-.94 2.06-2.06.94zm10 10l.94 2.06.94-2.06 2.06-.94-2.06-.94-.94-2.06-.94 2.06-2.06.94z\"/><path d=\"M17.41 7.96l-1.37-1.37c-.4-.4-.92-.59-1.43-.59-.52 0-1.04.2-1.43.59L10.3 9.45l-7.72 7.72c-.78.78-.78 2.05 0 2.83L4 21.41c.39.39.9.59 1.41.59.51 0 1.02-.2 1.41-.59l7.78-7.78 2.81-2.81c.8-.78.8-2.07 0-2.86zM5.41 20L4 18.59l7.72-7.72 1.47 1.35L5.41 20z\"/>\n",
              "  </svg>\n",
              "      </button>\n",
              "      \n",
              "  <style>\n",
              "    .colab-df-container {\n",
              "      display:flex;\n",
              "      flex-wrap:wrap;\n",
              "      gap: 12px;\n",
              "    }\n",
              "\n",
              "    .colab-df-convert {\n",
              "      background-color: #E8F0FE;\n",
              "      border: none;\n",
              "      border-radius: 50%;\n",
              "      cursor: pointer;\n",
              "      display: none;\n",
              "      fill: #1967D2;\n",
              "      height: 32px;\n",
              "      padding: 0 0 0 0;\n",
              "      width: 32px;\n",
              "    }\n",
              "\n",
              "    .colab-df-convert:hover {\n",
              "      background-color: #E2EBFA;\n",
              "      box-shadow: 0px 1px 2px rgba(60, 64, 67, 0.3), 0px 1px 3px 1px rgba(60, 64, 67, 0.15);\n",
              "      fill: #174EA6;\n",
              "    }\n",
              "\n",
              "    [theme=dark] .colab-df-convert {\n",
              "      background-color: #3B4455;\n",
              "      fill: #D2E3FC;\n",
              "    }\n",
              "\n",
              "    [theme=dark] .colab-df-convert:hover {\n",
              "      background-color: #434B5C;\n",
              "      box-shadow: 0px 1px 3px 1px rgba(0, 0, 0, 0.15);\n",
              "      filter: drop-shadow(0px 1px 2px rgba(0, 0, 0, 0.3));\n",
              "      fill: #FFFFFF;\n",
              "    }\n",
              "  </style>\n",
              "\n",
              "      <script>\n",
              "        const buttonEl =\n",
              "          document.querySelector('#df-742af4f4-3efb-406c-b431-a1714599cd29 button.colab-df-convert');\n",
              "        buttonEl.style.display =\n",
              "          google.colab.kernel.accessAllowed ? 'block' : 'none';\n",
              "\n",
              "        async function convertToInteractive(key) {\n",
              "          const element = document.querySelector('#df-742af4f4-3efb-406c-b431-a1714599cd29');\n",
              "          const dataTable =\n",
              "            await google.colab.kernel.invokeFunction('convertToInteractive',\n",
              "                                                     [key], {});\n",
              "          if (!dataTable) return;\n",
              "\n",
              "          const docLinkHtml = 'Like what you see? Visit the ' +\n",
              "            '<a target=\"_blank\" href=https://colab.research.google.com/notebooks/data_table.ipynb>data table notebook</a>'\n",
              "            + ' to learn more about interactive tables.';\n",
              "          element.innerHTML = '';\n",
              "          dataTable['output_type'] = 'display_data';\n",
              "          await google.colab.output.renderOutput(dataTable, element);\n",
              "          const docLink = document.createElement('div');\n",
              "          docLink.innerHTML = docLinkHtml;\n",
              "          element.appendChild(docLink);\n",
              "        }\n",
              "      </script>\n",
              "    </div>\n",
              "  </div>\n",
              "  "
            ],
            "text/plain": [
              "   brand   model processor_brand processor_name processor_gnrtn ram_gb  \\\n",
              "52  acer  Aspire             AMD            NaN         Missing    NaN   \n",
              "\n",
              "   ram_type  ssd  hdd       os  ...  display_size  warranty Touchscreen  \\\n",
              "52      NaN    0    0  Missing  ...             0         0          No   \n",
              "\n",
              "   msoffice  latest_price old_price discount  star_rating  ratings  reviews  \n",
              "52       No         54990     89000       38         4.50     3190      414  \n",
              "\n",
              "[1 rows x 23 columns]"
            ]
          },
          "execution_count": null,
          "metadata": {},
          "output_type": "execute_result"
        }
      ],
      "source": [
        "mask = data_laptop['processor_name'].isnull()\n",
        "data_laptop[mask]"
      ]
    },
    {
      "cell_type": "code",
      "execution_count": null,
      "metadata": {
        "colab": {
          "background_save": true
        },
        "id": "ixdq2GIEzi4r",
        "outputId": "5fedcb13-881f-4b2d-cda1-ffb95ea1759c"
      },
      "outputs": [
        {
          "data": {
            "text/plain": [
              "brand                 acer\n",
              "model               Aspire\n",
              "processor_brand        AMD\n",
              "processor_name         NaN\n",
              "processor_gnrtn    Missing\n",
              "ram_gb                 NaN\n",
              "ram_type               NaN\n",
              "ssd                      0\n",
              "hdd                      0\n",
              "os                 Missing\n",
              "os_bit                  32\n",
              "graphic_card_gb          4\n",
              "weight              Casual\n",
              "display_size             0\n",
              "warranty                 0\n",
              "Touchscreen             No\n",
              "msoffice                No\n",
              "latest_price         54990\n",
              "old_price            89000\n",
              "discount                38\n",
              "star_rating           4.50\n",
              "ratings               3190\n",
              "reviews                414\n",
              "Name: 52, dtype: object"
            ]
          },
          "execution_count": null,
          "metadata": {},
          "output_type": "execute_result"
        }
      ],
      "source": [
        "data_laptop.loc[52]"
      ]
    },
    {
      "cell_type": "code",
      "execution_count": null,
      "metadata": {
        "colab": {
          "background_save": true
        },
        "id": "yCjQV9Es-RKe",
        "outputId": "50aa8b56-6748-482e-f34b-91b3189deba3"
      },
      "outputs": [
        {
          "data": {
            "text/html": [
              "\n",
              "  <div id=\"df-7b85efbc-a01b-45ea-88c4-7ce0d98570c1\">\n",
              "    <div class=\"colab-df-container\">\n",
              "      <div>\n",
              "<style scoped>\n",
              "    .dataframe tbody tr th:only-of-type {\n",
              "        vertical-align: middle;\n",
              "    }\n",
              "\n",
              "    .dataframe tbody tr th {\n",
              "        vertical-align: top;\n",
              "    }\n",
              "\n",
              "    .dataframe thead th {\n",
              "        text-align: right;\n",
              "    }\n",
              "</style>\n",
              "<table border=\"1\" class=\"dataframe\">\n",
              "  <thead>\n",
              "    <tr style=\"text-align: right;\">\n",
              "      <th></th>\n",
              "      <th>ssd</th>\n",
              "      <th>hdd</th>\n",
              "      <th>os_bit</th>\n",
              "      <th>graphic_card_gb</th>\n",
              "      <th>warranty</th>\n",
              "      <th>latest_price</th>\n",
              "      <th>old_price</th>\n",
              "      <th>discount</th>\n",
              "      <th>star_rating</th>\n",
              "      <th>ratings</th>\n",
              "      <th>reviews</th>\n",
              "    </tr>\n",
              "  </thead>\n",
              "  <tbody>\n",
              "    <tr>\n",
              "      <th>ssd</th>\n",
              "      <td>1.00</td>\n",
              "      <td>-0.46</td>\n",
              "      <td>0.23</td>\n",
              "      <td>0.28</td>\n",
              "      <td>0.20</td>\n",
              "      <td>0.54</td>\n",
              "      <td>0.49</td>\n",
              "      <td>0.11</td>\n",
              "      <td>-0.12</td>\n",
              "      <td>-0.18</td>\n",
              "      <td>-0.18</td>\n",
              "    </tr>\n",
              "    <tr>\n",
              "      <th>hdd</th>\n",
              "      <td>-0.46</td>\n",
              "      <td>1.00</td>\n",
              "      <td>-0.01</td>\n",
              "      <td>-0.08</td>\n",
              "      <td>-0.05</td>\n",
              "      <td>-0.23</td>\n",
              "      <td>-0.25</td>\n",
              "      <td>-0.09</td>\n",
              "      <td>0.04</td>\n",
              "      <td>0.06</td>\n",
              "      <td>0.05</td>\n",
              "    </tr>\n",
              "    <tr>\n",
              "      <th>os_bit</th>\n",
              "      <td>0.23</td>\n",
              "      <td>-0.01</td>\n",
              "      <td>1.00</td>\n",
              "      <td>-0.14</td>\n",
              "      <td>0.29</td>\n",
              "      <td>-0.06</td>\n",
              "      <td>-0.01</td>\n",
              "      <td>0.04</td>\n",
              "      <td>0.04</td>\n",
              "      <td>-0.04</td>\n",
              "      <td>-0.05</td>\n",
              "    </tr>\n",
              "    <tr>\n",
              "      <th>graphic_card_gb</th>\n",
              "      <td>0.28</td>\n",
              "      <td>-0.08</td>\n",
              "      <td>-0.14</td>\n",
              "      <td>1.00</td>\n",
              "      <td>-0.04</td>\n",
              "      <td>0.49</td>\n",
              "      <td>0.46</td>\n",
              "      <td>0.05</td>\n",
              "      <td>-0.01</td>\n",
              "      <td>-0.04</td>\n",
              "      <td>-0.04</td>\n",
              "    </tr>\n",
              "    <tr>\n",
              "      <th>warranty</th>\n",
              "      <td>0.20</td>\n",
              "      <td>-0.05</td>\n",
              "      <td>0.29</td>\n",
              "      <td>-0.04</td>\n",
              "      <td>1.00</td>\n",
              "      <td>0.04</td>\n",
              "      <td>0.05</td>\n",
              "      <td>0.07</td>\n",
              "      <td>0.09</td>\n",
              "      <td>0.05</td>\n",
              "      <td>0.03</td>\n",
              "    </tr>\n",
              "    <tr>\n",
              "      <th>latest_price</th>\n",
              "      <td>0.54</td>\n",
              "      <td>-0.23</td>\n",
              "      <td>-0.06</td>\n",
              "      <td>0.49</td>\n",
              "      <td>0.04</td>\n",
              "      <td>1.00</td>\n",
              "      <td>0.75</td>\n",
              "      <td>-0.21</td>\n",
              "      <td>-0.16</td>\n",
              "      <td>-0.16</td>\n",
              "      <td>-0.17</td>\n",
              "    </tr>\n",
              "    <tr>\n",
              "      <th>old_price</th>\n",
              "      <td>0.49</td>\n",
              "      <td>-0.25</td>\n",
              "      <td>-0.01</td>\n",
              "      <td>0.46</td>\n",
              "      <td>0.05</td>\n",
              "      <td>0.75</td>\n",
              "      <td>1.00</td>\n",
              "      <td>0.22</td>\n",
              "      <td>-0.08</td>\n",
              "      <td>-0.15</td>\n",
              "      <td>-0.16</td>\n",
              "    </tr>\n",
              "    <tr>\n",
              "      <th>discount</th>\n",
              "      <td>0.11</td>\n",
              "      <td>-0.09</td>\n",
              "      <td>0.04</td>\n",
              "      <td>0.05</td>\n",
              "      <td>0.07</td>\n",
              "      <td>-0.21</td>\n",
              "      <td>0.22</td>\n",
              "      <td>1.00</td>\n",
              "      <td>0.07</td>\n",
              "      <td>-0.03</td>\n",
              "      <td>-0.03</td>\n",
              "    </tr>\n",
              "    <tr>\n",
              "      <th>star_rating</th>\n",
              "      <td>-0.12</td>\n",
              "      <td>0.04</td>\n",
              "      <td>0.04</td>\n",
              "      <td>-0.01</td>\n",
              "      <td>0.09</td>\n",
              "      <td>-0.16</td>\n",
              "      <td>-0.08</td>\n",
              "      <td>0.07</td>\n",
              "      <td>1.00</td>\n",
              "      <td>0.22</td>\n",
              "      <td>0.22</td>\n",
              "    </tr>\n",
              "    <tr>\n",
              "      <th>ratings</th>\n",
              "      <td>-0.18</td>\n",
              "      <td>0.06</td>\n",
              "      <td>-0.04</td>\n",
              "      <td>-0.04</td>\n",
              "      <td>0.05</td>\n",
              "      <td>-0.16</td>\n",
              "      <td>-0.15</td>\n",
              "      <td>-0.03</td>\n",
              "      <td>0.22</td>\n",
              "      <td>1.00</td>\n",
              "      <td>0.98</td>\n",
              "    </tr>\n",
              "    <tr>\n",
              "      <th>reviews</th>\n",
              "      <td>-0.18</td>\n",
              "      <td>0.05</td>\n",
              "      <td>-0.05</td>\n",
              "      <td>-0.04</td>\n",
              "      <td>0.03</td>\n",
              "      <td>-0.17</td>\n",
              "      <td>-0.16</td>\n",
              "      <td>-0.03</td>\n",
              "      <td>0.22</td>\n",
              "      <td>0.98</td>\n",
              "      <td>1.00</td>\n",
              "    </tr>\n",
              "  </tbody>\n",
              "</table>\n",
              "</div>\n",
              "      <button class=\"colab-df-convert\" onclick=\"convertToInteractive('df-7b85efbc-a01b-45ea-88c4-7ce0d98570c1')\"\n",
              "              title=\"Convert this dataframe to an interactive table.\"\n",
              "              style=\"display:none;\">\n",
              "        \n",
              "  <svg xmlns=\"http://www.w3.org/2000/svg\" height=\"24px\"viewBox=\"0 0 24 24\"\n",
              "       width=\"24px\">\n",
              "    <path d=\"M0 0h24v24H0V0z\" fill=\"none\"/>\n",
              "    <path d=\"M18.56 5.44l.94 2.06.94-2.06 2.06-.94-2.06-.94-.94-2.06-.94 2.06-2.06.94zm-11 1L8.5 8.5l.94-2.06 2.06-.94-2.06-.94L8.5 2.5l-.94 2.06-2.06.94zm10 10l.94 2.06.94-2.06 2.06-.94-2.06-.94-.94-2.06-.94 2.06-2.06.94z\"/><path d=\"M17.41 7.96l-1.37-1.37c-.4-.4-.92-.59-1.43-.59-.52 0-1.04.2-1.43.59L10.3 9.45l-7.72 7.72c-.78.78-.78 2.05 0 2.83L4 21.41c.39.39.9.59 1.41.59.51 0 1.02-.2 1.41-.59l7.78-7.78 2.81-2.81c.8-.78.8-2.07 0-2.86zM5.41 20L4 18.59l7.72-7.72 1.47 1.35L5.41 20z\"/>\n",
              "  </svg>\n",
              "      </button>\n",
              "      \n",
              "  <style>\n",
              "    .colab-df-container {\n",
              "      display:flex;\n",
              "      flex-wrap:wrap;\n",
              "      gap: 12px;\n",
              "    }\n",
              "\n",
              "    .colab-df-convert {\n",
              "      background-color: #E8F0FE;\n",
              "      border: none;\n",
              "      border-radius: 50%;\n",
              "      cursor: pointer;\n",
              "      display: none;\n",
              "      fill: #1967D2;\n",
              "      height: 32px;\n",
              "      padding: 0 0 0 0;\n",
              "      width: 32px;\n",
              "    }\n",
              "\n",
              "    .colab-df-convert:hover {\n",
              "      background-color: #E2EBFA;\n",
              "      box-shadow: 0px 1px 2px rgba(60, 64, 67, 0.3), 0px 1px 3px 1px rgba(60, 64, 67, 0.15);\n",
              "      fill: #174EA6;\n",
              "    }\n",
              "\n",
              "    [theme=dark] .colab-df-convert {\n",
              "      background-color: #3B4455;\n",
              "      fill: #D2E3FC;\n",
              "    }\n",
              "\n",
              "    [theme=dark] .colab-df-convert:hover {\n",
              "      background-color: #434B5C;\n",
              "      box-shadow: 0px 1px 3px 1px rgba(0, 0, 0, 0.15);\n",
              "      filter: drop-shadow(0px 1px 2px rgba(0, 0, 0, 0.3));\n",
              "      fill: #FFFFFF;\n",
              "    }\n",
              "  </style>\n",
              "\n",
              "      <script>\n",
              "        const buttonEl =\n",
              "          document.querySelector('#df-7b85efbc-a01b-45ea-88c4-7ce0d98570c1 button.colab-df-convert');\n",
              "        buttonEl.style.display =\n",
              "          google.colab.kernel.accessAllowed ? 'block' : 'none';\n",
              "\n",
              "        async function convertToInteractive(key) {\n",
              "          const element = document.querySelector('#df-7b85efbc-a01b-45ea-88c4-7ce0d98570c1');\n",
              "          const dataTable =\n",
              "            await google.colab.kernel.invokeFunction('convertToInteractive',\n",
              "                                                     [key], {});\n",
              "          if (!dataTable) return;\n",
              "\n",
              "          const docLinkHtml = 'Like what you see? Visit the ' +\n",
              "            '<a target=\"_blank\" href=https://colab.research.google.com/notebooks/data_table.ipynb>data table notebook</a>'\n",
              "            + ' to learn more about interactive tables.';\n",
              "          element.innerHTML = '';\n",
              "          dataTable['output_type'] = 'display_data';\n",
              "          await google.colab.output.renderOutput(dataTable, element);\n",
              "          const docLink = document.createElement('div');\n",
              "          docLink.innerHTML = docLinkHtml;\n",
              "          element.appendChild(docLink);\n",
              "        }\n",
              "      </script>\n",
              "    </div>\n",
              "  </div>\n",
              "  "
            ],
            "text/plain": [
              "                  ssd   hdd  os_bit  graphic_card_gb  warranty  latest_price  \\\n",
              "ssd              1.00 -0.46    0.23             0.28      0.20          0.54   \n",
              "hdd             -0.46  1.00   -0.01            -0.08     -0.05         -0.23   \n",
              "os_bit           0.23 -0.01    1.00            -0.14      0.29         -0.06   \n",
              "graphic_card_gb  0.28 -0.08   -0.14             1.00     -0.04          0.49   \n",
              "warranty         0.20 -0.05    0.29            -0.04      1.00          0.04   \n",
              "latest_price     0.54 -0.23   -0.06             0.49      0.04          1.00   \n",
              "old_price        0.49 -0.25   -0.01             0.46      0.05          0.75   \n",
              "discount         0.11 -0.09    0.04             0.05      0.07         -0.21   \n",
              "star_rating     -0.12  0.04    0.04            -0.01      0.09         -0.16   \n",
              "ratings         -0.18  0.06   -0.04            -0.04      0.05         -0.16   \n",
              "reviews         -0.18  0.05   -0.05            -0.04      0.03         -0.17   \n",
              "\n",
              "                 old_price  discount  star_rating  ratings  reviews  \n",
              "ssd                   0.49      0.11        -0.12    -0.18    -0.18  \n",
              "hdd                  -0.25     -0.09         0.04     0.06     0.05  \n",
              "os_bit               -0.01      0.04         0.04    -0.04    -0.05  \n",
              "graphic_card_gb       0.46      0.05        -0.01    -0.04    -0.04  \n",
              "warranty              0.05      0.07         0.09     0.05     0.03  \n",
              "latest_price          0.75     -0.21        -0.16    -0.16    -0.17  \n",
              "old_price             1.00      0.22        -0.08    -0.15    -0.16  \n",
              "discount              0.22      1.00         0.07    -0.03    -0.03  \n",
              "star_rating          -0.08      0.07         1.00     0.22     0.22  \n",
              "ratings              -0.15     -0.03         0.22     1.00     0.98  \n",
              "reviews              -0.16     -0.03         0.22     0.98     1.00  "
            ]
          },
          "execution_count": null,
          "metadata": {},
          "output_type": "execute_result"
        }
      ],
      "source": [
        "# Melihat hubungan dari fitur numerik menggunakan correlation \n",
        "data_laptop.corr() # syntax `corr` ini Pearson Correlation"
      ]
    },
    {
      "cell_type": "code",
      "execution_count": null,
      "metadata": {
        "colab": {
          "background_save": true
        },
        "id": "dHXJLI6r-Txl",
        "outputId": "0d3edbec-5cb2-4283-fdf9-12bdcfe6c3bb"
      },
      "outputs": [
        {
          "data": {
            "image/png": "[encoded data removed]",
            "text/plain": [
              "<Figure size 720x720 with 2 Axes>"
            ]
          },
          "metadata": {},
          "output_type": "display_data"
        }
      ],
      "source": [
        "# Visualisasikan correlation coefficient di atas dengan bantuan heat map\n",
        "fig, ax = plt.subplots(figsize=(10,10))\n",
        "sns.heatmap(data_laptop.corr(), annot=True, fmt=\".2f\")\n",
        "plt.show()"
      ]
    },
    {
      "cell_type": "markdown",
      "metadata": {
        "id": "JUOnpM8kTmKe"
      },
      "source": [
        "# Data Preparation "
      ]
    },
    {
      "cell_type": "markdown",
      "metadata": {
        "id": "t2vVWCd00jKf"
      },
      "source": [
        "Pada data preparation kita akan membersihkan data"
      ]
    },
    {
      "cell_type": "code",
      "execution_count": null,
      "metadata": {
        "colab": {
          "background_save": true
        },
        "id": "tl5pGjMA1Ojy"
      },
      "outputs": [],
      "source": [
        "dlc1 = data_laptop.dropna() #menghapus nilai NaN"
      ]
    },
    {
      "cell_type": "markdown",
      "metadata": {
        "id": "AE4PAzBrs3dn"
      },
      "source": [
        "data yang sudah dibersihkan dari nilai NaN Budi simpan pada variabel dlc1 (data_laptop_clear_1) data laptop yang sudah dibersihkan pada tahap pertama"
      ]
    },
    {
      "cell_type": "code",
      "execution_count": null,
      "metadata": {
        "colab": {
          "background_save": true
        },
        "id": "-oTCxX6w1Xv1"
      },
      "outputs": [],
      "source": [
        "dlc1['model'].replace ('Vivobook', 'VivoBook', inplace = True) #menyatukan Vivobook dengan VivoBook karena pada dasarnya sama hanya beda penulisan"
      ]
    },
    {
      "cell_type": "code",
      "execution_count": null,
      "metadata": {
        "colab": {
          "background_save": true
        },
        "id": "v0bgk0nBziTW",
        "outputId": "7de130a3-197d-45a1-b58d-22f724b5d966"
      },
      "outputs": [
        {
          "name": "stdout",
          "output_type": "stream",
          "text": [
            "Numerical features:\n",
            "['ssd',\n",
            " 'hdd',\n",
            " 'os_bit',\n",
            " 'graphic_card_gb',\n",
            " 'warranty',\n",
            " 'latest_price',\n",
            " 'old_price',\n",
            " 'discount',\n",
            " 'star_rating',\n",
            " 'ratings',\n",
            " 'reviews']\n",
            "Categorical features:\n",
            "['brand', 'model', 'processor_brand', 'processor_name', 'processor_gnrtn',\n",
            " 'ram_gb', 'ram_type', 'os', 'weight', 'display_size', 'Touchscreen',\n",
            " 'msoffice']\n"
          ]
        }
      ],
      "source": [
        "# Mengetahui kolom apa saja yang termasuk fitur (variabel) numerik/kategoris\n",
        "numerical_features_clear = dlc1.select_dtypes(include=\"number\").columns.tolist()\n",
        "categorical_features_clear = dlc1.select_dtypes(include=\"object\").columns.tolist()\n",
        "\n",
        "print(\"Numerical features:\")\n",
        "pprint(numerical_features_clear) #menampilkan tulisan dalam list\n",
        "print(\"Categorical features:\")\n",
        "pprint(categorical_features_clear, compact=True)"
      ]
    },
    {
      "cell_type": "code",
      "execution_count": null,
      "metadata": {
        "colab": {
          "background_save": true
        },
        "id": "3QBvfC_E1kHH",
        "outputId": "e5a8f824-34d5-4df8-bc77-58a3975fa48d"
      },
      "outputs": [
        {
          "name": "stdout",
          "output_type": "stream",
          "text": [
            "ASUS         251\n",
            "DELL         151\n",
            "Lenovo       147\n",
            "HP           141\n",
            "acer          51\n",
            "MSI           45\n",
            "APPLE         28\n",
            "Avita         18\n",
            "Vaio           5\n",
            "LG             5\n",
            "ALIENWARE      4\n",
            "Infinix        4\n",
            "Nokia          4\n",
            "realme         4\n",
            "MICROSOFT      3\n",
            "RedmiBook      3\n",
            "Smartron       3\n",
            "Mi             2\n",
            "SAMSUNG        1\n",
            "iball          1\n",
            "Name: brand, dtype: int64\n",
            "------\n",
            "Core          94\n",
            "VivoBook      89\n",
            "Inspiron      77\n",
            "Pavilion      38\n",
            "IdeaPad       37\n",
            "              ..\n",
            "Rog            1\n",
            "Commercial     1\n",
            "X390           1\n",
            "G3             1\n",
            "v15            1\n",
            "Name: model, Length: 114, dtype: int64\n",
            "------\n",
            "Intel            626\n",
            "AMD              203\n",
            "Apple             24\n",
            "NVIDIA             6\n",
            "MediaTek           3\n",
            "Pre-installed      3\n",
            "First              2\n",
            "Qualcomm           1\n",
            "512                1\n",
            "M.2                1\n",
            "64                 1\n",
            "Name: processor_brand, dtype: int64\n",
            "------\n",
            "Core i5              292\n",
            "Core i3              170\n",
            "Core i7              111\n",
            "Ryzen 5               82\n",
            "Ryzen 7               58\n",
            "Ryzen 9               26\n",
            "Ryzen 3               26\n",
            "Celeron Dual          24\n",
            "M1 Processor          18\n",
            "Pentium Quad          14\n",
            "Core i9                8\n",
            "APU Dual               7\n",
            "M1 Pro                 5\n",
            "GeForce RTX            4\n",
            "MediaTek Kompanio      3\n",
            "Genuine Windows        3\n",
            "Hexa Core              2\n",
            "Pentium Silver         2\n",
            "GeForce GTX            2\n",
            "Athlon Dual            2\n",
            "Dual Core              2\n",
            "Ever Screenpad         2\n",
            "GB SSD                 1\n",
            "GB eMMC                1\n",
            "Slot for               1\n",
            "Snapdragon 7c          1\n",
            "i5                     1\n",
            "A6-9225 Processor      1\n",
            "M1 Max                 1\n",
            "Core m3                1\n",
            "Name: processor_name, dtype: int64\n",
            "------\n",
            "11th       346\n",
            "Missing    289\n",
            "10th       172\n",
            "8th         42\n",
            "7th         12\n",
            "9th          6\n",
            "12th         3\n",
            "4th          1\n",
            "Name: processor_gnrtn, dtype: int64\n",
            "------\n",
            "8                503\n",
            "16               239\n",
            "4                102\n",
            "32                12\n",
            "15.6               6\n",
            "NVIDIA             2\n",
            "5                  1\n",
            "Dual               1\n",
            "Acer               1\n",
            "Pre-installed      1\n",
            "Full               1\n",
            "Intel              1\n",
            "Access             1\n",
            "Name: ram_gb, dtype: int64\n",
            "------\n",
            "DDR4       741\n",
            "LPDDR4X     65\n",
            "LPDDR3      14\n",
            "LPDDR4      12\n",
            "DDR3        12\n",
            "DDR5         7\n",
            "Unified      6\n",
            "Full         6\n",
            "GTX          2\n",
            "Cooling      1\n",
            "Master       1\n",
            "Windows      1\n",
            "LED          1\n",
            "i5           1\n",
            "Apps         1\n",
            "Name: ram_type, dtype: int64\n",
            "------\n",
            "Windows    796\n",
            "Missing     47\n",
            "Mac         28\n",
            "Name: os, dtype: int64\n",
            "------\n",
            "Casual        542\n",
            "ThinNlight    290\n",
            "Gaming         39\n",
            "Name: weight, dtype: int64\n",
            "------\n",
            "15.6     383\n",
            "14       279\n",
            "13.3      83\n",
            "0         36\n",
            "17.3      13\n",
            "14.96     11\n",
            "14.1       9\n",
            "16         8\n",
            "16.1       7\n",
            "13         7\n",
            "13.4       7\n",
            "15         6\n",
            "13.5       6\n",
            "16.2       3\n",
            "14.2       3\n",
            "12.2       3\n",
            "14.9       1\n",
            "15.3       1\n",
            "All        1\n",
            "6th        1\n",
            "8th        1\n",
            "12         1\n",
            "ITW)       1\n",
            "Name: display_size, dtype: int64\n",
            "------\n",
            "No     768\n",
            "Yes    103\n",
            "Name: Touchscreen, dtype: int64\n",
            "------\n",
            "No     581\n",
            "Yes    290\n",
            "Name: msoffice, dtype: int64\n",
            "------\n"
          ]
        }
      ],
      "source": [
        "# Dari masing-masing unique values, kita akan coba melihat frequency tiap value di tiap kolom\n",
        "for feature in categorical_features_clear:\n",
        "    print(dlc1[feature].value_counts())\n",
        "    print ('------')"
      ]
    },
    {
      "cell_type": "markdown",
      "metadata": {
        "id": "Kay6YRX_1rsE"
      },
      "source": [
        "selanjutnya kita akan menghapus data yang tidak sesuai, seperti layar dengan 0 inci, ukuran RAM yang bukan angka, dan tipe RAM yang masih salah"
      ]
    },
    {
      "cell_type": "code",
      "execution_count": null,
      "metadata": {
        "colab": {
          "background_save": true
        },
        "id": "7blv8C4L1kB9"
      },
      "outputs": [],
      "source": [
        "dlc1[\"display_size\"] = (dlc1[\"display_size\"].replace({'0': np.nan, 'All' : np.nan, '6th' : np.nan, '8th' : np.nan, 'ITW)' : np.nan}))"
      ]
    },
    {
      "cell_type": "code",
      "execution_count": null,
      "metadata": {
        "colab": {
          "background_save": true
        },
        "id": "tjaZfWGsziLs",
        "outputId": "08a1ff43-cd4e-46df-ec04-fae5a0abe633"
      },
      "outputs": [
        {
          "data": {
            "text/plain": [
              "brand               0\n",
              "model               0\n",
              "processor_brand     0\n",
              "processor_name      0\n",
              "processor_gnrtn     0\n",
              "ram_gb              0\n",
              "ram_type            0\n",
              "ssd                 0\n",
              "hdd                 0\n",
              "os                  0\n",
              "os_bit              0\n",
              "graphic_card_gb     0\n",
              "weight              0\n",
              "display_size       40\n",
              "warranty            0\n",
              "Touchscreen         0\n",
              "msoffice            0\n",
              "latest_price        0\n",
              "old_price           0\n",
              "discount            0\n",
              "star_rating         0\n",
              "ratings             0\n",
              "reviews             0\n",
              "dtype: int64"
            ]
          },
          "execution_count": null,
          "metadata": {},
          "output_type": "execute_result"
        }
      ],
      "source": [
        "dlc1.isnull().sum()"
      ]
    },
    {
      "cell_type": "markdown",
      "metadata": {
        "id": "_oWOe0vTtbzT"
      },
      "source": [
        "data display_size yang salah sudah diberi nilai NaN dan berhasil"
      ]
    },
    {
      "cell_type": "code",
      "execution_count": null,
      "metadata": {
        "colab": {
          "background_save": true
        },
        "id": "rk-1QjH03w6b"
      },
      "outputs": [],
      "source": [
        "dlc_final = dlc1.dropna() #menghapus nilai NaN pada data display_size yang baru diubah"
      ]
    },
    {
      "cell_type": "markdown",
      "metadata": {
        "id": "1_guGJq6trFx"
      },
      "source": [
        "Kemudian dari dlc1, Budi menghilangkan lagi nilai NaN yang baru dimasukan ke display_size. terbentuk lah dlc_final (data_laptop_clear_final) atau data laptop yang sudah final untuk diolah"
      ]
    },
    {
      "cell_type": "code",
      "execution_count": null,
      "metadata": {
        "colab": {
          "background_save": true
        },
        "id": "Tp3hvy_V3_nR",
        "outputId": "9376e8ce-f8b1-43bc-f1eb-7bedd5c275cd"
      },
      "outputs": [
        {
          "name": "stdout",
          "output_type": "stream",
          "text": [
            "<class 'pandas.core.frame.DataFrame'>\n",
            "Int64Index: 831 entries, 0 to 895\n",
            "Data columns (total 23 columns):\n",
            " #   Column           Non-Null Count  Dtype  \n",
            "---  ------           --------------  -----  \n",
            " 0   brand            831 non-null    object \n",
            " 1   model            831 non-null    object \n",
            " 2   processor_brand  831 non-null    object \n",
            " 3   processor_name   831 non-null    object \n",
            " 4   processor_gnrtn  831 non-null    object \n",
            " 5   ram_gb           831 non-null    object \n",
            " 6   ram_type         831 non-null    object \n",
            " 7   ssd              831 non-null    int64  \n",
            " 8   hdd              831 non-null    int64  \n",
            " 9   os               831 non-null    object \n",
            " 10  os_bit           831 non-null    int64  \n",
            " 11  graphic_card_gb  831 non-null    int64  \n",
            " 12  weight           831 non-null    object \n",
            " 13  display_size     831 non-null    object \n",
            " 14  warranty         831 non-null    int64  \n",
            " 15  Touchscreen      831 non-null    object \n",
            " 16  msoffice         831 non-null    object \n",
            " 17  latest_price     831 non-null    int64  \n",
            " 18  old_price        831 non-null    int64  \n",
            " 19  discount         831 non-null    int64  \n",
            " 20  star_rating      831 non-null    float64\n",
            " 21  ratings          831 non-null    int64  \n",
            " 22  reviews          831 non-null    int64  \n",
            "dtypes: float64(1), int64(10), object(12)\n",
            "memory usage: 155.8+ KB\n"
          ]
        }
      ],
      "source": [
        "dlc_final.info()"
      ]
    },
    {
      "cell_type": "code",
      "execution_count": null,
      "metadata": {
        "colab": {
          "background_save": true
        },
        "id": "guQmaEUr4kaz",
        "outputId": "6e67c2a7-813d-47d3-8cb4-0b8d453c7aac"
      },
      "outputs": [
        {
          "name": "stdout",
          "output_type": "stream",
          "text": [
            "ASUS         237\n",
            "DELL         149\n",
            "Lenovo       142\n",
            "HP           134\n",
            "acer          47\n",
            "MSI           44\n",
            "APPLE         28\n",
            "Avita         17\n",
            "LG             5\n",
            "Vaio           5\n",
            "realme         4\n",
            "Nokia          4\n",
            "Infinix        4\n",
            "MICROSOFT      3\n",
            "Smartron       3\n",
            "RedmiBook      3\n",
            "Mi             2\n",
            "Name: brand, dtype: int64\n",
            "------\n",
            "Core          89\n",
            "VivoBook      88\n",
            "Inspiron      77\n",
            "Pavilion      38\n",
            "Ryzen         35\n",
            "              ..\n",
            "ConceptD       1\n",
            "3000           1\n",
            "Rog            1\n",
            "Commercial     1\n",
            "v15            1\n",
            "Name: model, Length: 107, dtype: int64\n",
            "------\n",
            "Intel    605\n",
            "AMD      202\n",
            "Apple     24\n",
            "Name: processor_brand, dtype: int64\n",
            "------\n",
            "Core i5              292\n",
            "Core i3              170\n",
            "Core i7              111\n",
            "Ryzen 5               82\n",
            "Ryzen 7               58\n",
            "Ryzen 9               26\n",
            "Ryzen 3               26\n",
            "M1 Processor          18\n",
            "Pentium Quad          12\n",
            "Core i9                8\n",
            "APU Dual               6\n",
            "Celeron Dual           6\n",
            "M1 Pro                 5\n",
            "Hexa Core              2\n",
            "Dual Core              2\n",
            "Pentium Silver         2\n",
            "Athlon Dual            2\n",
            "M1 Max                 1\n",
            "A6-9225 Processor      1\n",
            "Core m3                1\n",
            "Name: processor_name, dtype: int64\n",
            "------\n",
            "11th       346\n",
            "Missing    249\n",
            "10th       172\n",
            "8th         42\n",
            "7th         12\n",
            "9th          6\n",
            "12th         3\n",
            "4th          1\n",
            "Name: processor_gnrtn, dtype: int64\n",
            "------\n",
            "8     503\n",
            "16    239\n",
            "4      77\n",
            "32     12\n",
            "Name: ram_gb, dtype: int64\n",
            "------\n",
            "DDR4       731\n",
            "LPDDR4X     60\n",
            "LPDDR3      14\n",
            "DDR3        11\n",
            "Unified      6\n",
            "DDR5         6\n",
            "LPDDR4       3\n",
            "Name: ram_type, dtype: int64\n",
            "------\n",
            "Windows    787\n",
            "Mac         28\n",
            "Missing     16\n",
            "Name: os, dtype: int64\n",
            "------\n",
            "Casual        503\n",
            "ThinNlight    289\n",
            "Gaming         39\n",
            "Name: weight, dtype: int64\n",
            "------\n",
            "15.6     383\n",
            "14       279\n",
            "13.3      83\n",
            "17.3      13\n",
            "14.96     11\n",
            "14.1       9\n",
            "16         8\n",
            "13.4       7\n",
            "13         7\n",
            "16.1       7\n",
            "13.5       6\n",
            "15         6\n",
            "14.2       3\n",
            "16.2       3\n",
            "12.2       3\n",
            "14.9       1\n",
            "15.3       1\n",
            "12         1\n",
            "Name: display_size, dtype: int64\n",
            "------\n",
            "No     728\n",
            "Yes    103\n",
            "Name: Touchscreen, dtype: int64\n",
            "------\n",
            "No     541\n",
            "Yes    290\n",
            "Name: msoffice, dtype: int64\n",
            "------\n"
          ]
        }
      ],
      "source": [
        "# Dari masing-masing unique values, kita akan coba melihat frequency tiap value di tiap kolom\n",
        "for feature in categorical_features_clear:\n",
        "    print(dlc_final[feature].value_counts())\n",
        "    print ('------')"
      ]
    },
    {
      "cell_type": "markdown",
      "metadata": {
        "id": "EOOd-t-a41Zp"
      },
      "source": [
        "Ternyata dengan membersihkan display_size = 0 sudah banyak data yang salah terhapus, sehingga data sudah cukup bersih"
      ]
    },
    {
      "cell_type": "code",
      "execution_count": null,
      "metadata": {
        "colab": {
          "background_save": true
        },
        "id": "VAzCOTmO5WVj"
      },
      "outputs": [],
      "source": [
        "dlc_final[\"os_bit\"] = dlc_final[\"os_bit\"].astype(\"object\") #mengubah bit menjadi objek\n",
        "dlc_final[\"ram_gb\"] = dlc_final[\"ram_gb\"].astype(\"int64\") #mengubah ukuran menjadi integer"
      ]
    },
    {
      "cell_type": "code",
      "execution_count": null,
      "metadata": {
        "colab": {
          "background_save": true
        },
        "id": "B8LEAosx91e3",
        "outputId": "61ec6667-b907-4518-e596-ea84852936e5"
      },
      "outputs": [
        {
          "name": "stdout",
          "output_type": "stream",
          "text": [
            "Numerical features:\n",
            "['ram_gb', 'ssd', 'hdd', 'graphic_card_gb', 'warranty', 'latest_price',\n",
            " 'old_price', 'discount', 'star_rating', 'ratings', 'reviews']\n",
            "Categorical features:\n",
            "['brand', 'model', 'processor_brand', 'processor_name', 'processor_gnrtn',\n",
            " 'ram_type', 'os', 'os_bit', 'weight', 'display_size', 'Touchscreen',\n",
            " 'msoffice']\n"
          ]
        }
      ],
      "source": [
        "# Mengetahui kolom apa saja yang termasuk fitur (variabel) numerik/kategoris\n",
        "numerical_features_clear = dlc_final.select_dtypes(include=\"number\").columns.tolist()\n",
        "categorical_features_clear = dlc_final.select_dtypes(include=\"object\").columns.tolist()\n",
        "\n",
        "print(\"Numerical features:\")\n",
        "pprint(numerical_features_clear, compact=True) #menampilkan tulisan dalam list\n",
        "print(\"Categorical features:\")\n",
        "pprint(categorical_features_clear, compact=True)"
      ]
    },
    {
      "cell_type": "code",
      "execution_count": null,
      "metadata": {
        "colab": {
          "background_save": true
        },
        "id": "XzfS_Zue6Kym",
        "outputId": "276bf957-a604-4914-d5ed-11adf498214b"
      },
      "outputs": [
        {
          "name": "stdout",
          "output_type": "stream",
          "text": [
            "<class 'pandas.core.frame.DataFrame'>\n",
            "Int64Index: 831 entries, 0 to 895\n",
            "Data columns (total 23 columns):\n",
            " #   Column           Non-Null Count  Dtype  \n",
            "---  ------           --------------  -----  \n",
            " 0   brand            831 non-null    object \n",
            " 1   model            831 non-null    object \n",
            " 2   processor_brand  831 non-null    object \n",
            " 3   processor_name   831 non-null    object \n",
            " 4   processor_gnrtn  831 non-null    object \n",
            " 5   ram_gb           831 non-null    int64  \n",
            " 6   ram_type         831 non-null    object \n",
            " 7   ssd              831 non-null    int64  \n",
            " 8   hdd              831 non-null    int64  \n",
            " 9   os               831 non-null    object \n",
            " 10  os_bit           831 non-null    object \n",
            " 11  graphic_card_gb  831 non-null    int64  \n",
            " 12  weight           831 non-null    object \n",
            " 13  display_size     831 non-null    object \n",
            " 14  warranty         831 non-null    int64  \n",
            " 15  Touchscreen      831 non-null    object \n",
            " 16  msoffice         831 non-null    object \n",
            " 17  latest_price     831 non-null    int64  \n",
            " 18  old_price        831 non-null    int64  \n",
            " 19  discount         831 non-null    int64  \n",
            " 20  star_rating      831 non-null    float64\n",
            " 21  ratings          831 non-null    int64  \n",
            " 22  reviews          831 non-null    int64  \n",
            "dtypes: float64(1), int64(10), object(12)\n",
            "memory usage: 155.8+ KB\n"
          ]
        }
      ],
      "source": [
        "dlc_final.info()"
      ]
    },
    {
      "cell_type": "code",
      "execution_count": null,
      "metadata": {
        "colab": {
          "background_save": true
        },
        "id": "rAx3BTl-7KmK",
        "outputId": "e319da0e-9f78-46a0-9530-8677683c443c"
      },
      "outputs": [
        {
          "data": {
            "image/png": "[encoded data removed]",
            "text/plain": [
              "<Figure size 1800x432 with 1 Axes>"
            ]
          },
          "metadata": {},
          "output_type": "display_data"
        },
        {
          "data": {
            "image/png": "[encoded data removed]",
            "text/plain": [
              "<Figure size 1800x432 with 1 Axes>"
            ]
          },
          "metadata": {},
          "output_type": "display_data"
        }
      ],
      "source": [
        "#data yang sudah dibersihkan\n",
        "count_clear = dlc_final.brand.value_counts().index\n",
        "\n",
        "plt.figure(figsize=(25, 6))\n",
        "sns.countplot(\n",
        "    x=\"brand\",\n",
        "    data=dlc_final,\n",
        "    order=count_clear,\n",
        "    palette=[\"#29B5BF\"] + (len(count_clear)-1)*[\"#777777\"]\n",
        ")\n",
        "plt.grid(False)\n",
        "plt.show()\n",
        "\n",
        "#data yang belum bersih\n",
        "count = data_laptop.brand.value_counts().index\n",
        "\n",
        "plt.figure(figsize=(25, 6))\n",
        "sns.countplot(\n",
        "    x=\"brand\",\n",
        "    data=data_laptop,\n",
        "    order=count,\n",
        "    palette=[\"#29B5BF\"] + (len(count)-1)*[\"#777777\"]\n",
        ")\n",
        "plt.grid(False)\n",
        "plt.show()"
      ]
    },
    {
      "cell_type": "code",
      "execution_count": null,
      "metadata": {
        "colab": {
          "background_save": true
        },
        "id": "O645c-bM7-Nw",
        "outputId": "73d19f59-8642-4826-ff44-9ba69ba42b3c"
      },
      "outputs": [
        {
          "data": {
            "image/png": "[encoded data removed]",
            "text/plain": [
              "<Figure size 1800x432 with 1 Axes>"
            ]
          },
          "metadata": {},
          "output_type": "display_data"
        },
        {
          "data": {
            "image/png": "[encoded data removed]",
            "text/plain": [
              "<Figure size 1800x432 with 1 Axes>"
            ]
          },
          "metadata": {},
          "output_type": "display_data"
        }
      ],
      "source": [
        "#data yang sudah dibersihkan\n",
        "count_clear2 = dlc_final.processor_brand.value_counts().index\n",
        "\n",
        "plt.figure(figsize=(25, 6))\n",
        "sns.countplot(\n",
        "    x=\"processor_brand\",\n",
        "    data=dlc_final,\n",
        "    order=count_clear2,\n",
        "    palette=[\"#29B5BF\"] + (len(count_clear2)-1)*[\"#777777\"]\n",
        ")\n",
        "plt.grid(False)\n",
        "plt.show()\n",
        "\n",
        "\n",
        "#data yang belum bersih\n",
        "count2 = data_laptop.processor_brand.value_counts().index\n",
        "\n",
        "plt.figure(figsize=(25, 6))\n",
        "sns.countplot(\n",
        "    x=\"processor_brand\",\n",
        "    data=data_laptop,\n",
        "    order=count2,\n",
        "    palette=[\"#29B5BF\"] + (len(count2)-1)*[\"#777777\"]\n",
        ")\n",
        "plt.grid(False)\n",
        "plt.show()"
      ]
    },
    {
      "cell_type": "code",
      "execution_count": null,
      "metadata": {
        "colab": {
          "background_save": true
        },
        "id": "lX2gGfIl8svz",
        "outputId": "9d56327b-cb4e-4705-e799-141fb6dcdbb9"
      },
      "outputs": [
        {
          "data": {
            "image/png": "[encoded data removed]",
            "text/plain": [
              "<Figure size 1872x432 with 1 Axes>"
            ]
          },
          "metadata": {},
          "output_type": "display_data"
        },
        {
          "data": {
            "image/png": "[encoded data removed]",
            "text/plain": [
              "<Figure size 1872x432 with 1 Axes>"
            ]
          },
          "metadata": {},
          "output_type": "display_data"
        }
      ],
      "source": [
        "#data yang sudah dibersihkan\n",
        "plt.figure(figsize=(26, 6))\n",
        "sns.countplot(\n",
        "    x=\"brand\",\n",
        "    data=dlc_final,\n",
        "    hue=\"weight\",\n",
        "    order=sorted(dlc_final.brand.unique()),\n",
        "    palette=[\"#29B5BF\"] + [\"#777777\"] +[\"#FFE653\"]\n",
        ")\n",
        "plt.grid(False)\n",
        "plt.show()\n",
        "\n",
        "#data yang belum bersih\n",
        "plt.figure(figsize=(26, 6))\n",
        "sns.countplot(\n",
        "    x=\"brand\",\n",
        "    data=data_laptop,\n",
        "    hue=\"weight\",\n",
        "    order=sorted(data_laptop.brand.unique()),\n",
        "    palette=[\"#29B5BF\"] + [\"#777777\"] +[\"#FFE653\"]\n",
        ")\n",
        "plt.grid(False)\n",
        "plt.show()"
      ]
    },
    {
      "cell_type": "markdown",
      "metadata": {
        "id": "-JPDMRuovOzq"
      },
      "source": [
        "## Sekarang Budi akan melakukan visualisasi data numerik"
      ]
    },
    {
      "cell_type": "code",
      "execution_count": null,
      "metadata": {
        "colab": {
          "background_save": true
        },
        "id": "rSFMJFbl8tSs",
        "outputId": "48b14b07-2735-4c08-efa9-9f3123753be4"
      },
      "outputs": [
        {
          "data": {
            "text/plain": [
              "(0.0, 468263.8114526314)"
            ]
          },
          "execution_count": null,
          "metadata": {},
          "output_type": "execute_result"
        },
        {
          "data": {
            "image/png": "[encoded data removed]",
            "text/plain": [
              "<Figure size 432x288 with 1 Axes>"
            ]
          },
          "metadata": {},
          "output_type": "display_data"
        }
      ],
      "source": [
        "nih#data baru\n",
        "sns.regplot(x=dlc_final[\"ratings\"],y=dlc_final[\"latest_price\"])\n",
        "plt.ylim(0,)"
      ]
    },
    {
      "cell_type": "code",
      "execution_count": null,
      "metadata": {
        "colab": {
          "background_save": true
        },
        "id": "BXdY1WsO9evi",
        "outputId": "f21a0323-b8a6-4755-b44b-935c76070482"
      },
      "outputs": [
        {
          "data": {
            "text/plain": [
              "(0.0, 467774.70237137465)"
            ]
          },
          "execution_count": null,
          "metadata": {},
          "output_type": "execute_result"
        },
        {
          "data": {
            "image/png": "[encoded data removed]",
            "text/plain": [
              "<Figure size 432x288 with 1 Axes>"
            ]
          },
          "metadata": {},
          "output_type": "display_data"
        }
      ],
      "source": [
        "sns.regplot(x=data_laptop[\"ratings\"],y=data_laptop[\"latest_price\"])\n",
        "plt.ylim(0,)"
      ]
    },
    {
      "cell_type": "markdown",
      "metadata": {
        "id": "kxVCTk7WvYSt"
      },
      "source": [
        "Hal yang dapat diperhatikan\n",
        "1. Ternyata harga dan rating memiliki korelasi negatif, di mana semaking tinggi harga maka rating semakin kecil atau tidak dibeli\n",
        "2. tidak ada perbedaan yang signifikan setelah data dibersihkan"
      ]
    },
    {
      "cell_type": "code",
      "execution_count": null,
      "metadata": {
        "colab": {
          "background_save": true
        },
        "id": "uzXKcC4Z8tL3",
        "outputId": "d31aa89a-690c-4cdc-a833-47f331cfa843"
      },
      "outputs": [
        {
          "data": {
            "text/plain": [
              "<seaborn.axisgrid.FacetGrid at 0x7fa755c05690>"
            ]
          },
          "execution_count": null,
          "metadata": {},
          "output_type": "execute_result"
        },
        {
          "data": {
            "image/png": "[encoded data removed]",
            "text/plain": [
              "<Figure size 360x360 with 1 Axes>"
            ]
          },
          "metadata": {},
          "output_type": "display_data"
        }
      ],
      "source": [
        "sns.relplot(x='star_rating', y='latest_price', data=dlc_final) #kita akan melakukan visualisasi terhadap data untuk melihat hubungan antara dua variabel"
      ]
    },
    {
      "cell_type": "code",
      "execution_count": null,
      "metadata": {
        "colab": {
          "background_save": true
        },
        "id": "SNPTI6q99lPH",
        "outputId": "7e9c01b6-2595-4194-90e0-f7ddbfdc4940"
      },
      "outputs": [
        {
          "data": {
            "text/plain": [
              "<seaborn.axisgrid.FacetGrid at 0x7fa753c87e90>"
            ]
          },
          "execution_count": null,
          "metadata": {},
          "output_type": "execute_result"
        },
        {
          "data": {
            "image/png": "[encoded data removed]",
            "text/plain": [
              "<Figure size 360x360 with 1 Axes>"
            ]
          },
          "metadata": {},
          "output_type": "display_data"
        }
      ],
      "source": [
        "sns.relplot(x='star_rating', y='latest_price', data=data_laptop) #kita akan melakukan visualisasi terhadap data untuk melihat hubungan antara dua variabel"
      ]
    },
    {
      "cell_type": "markdown",
      "metadata": {
        "id": "HfUwtmTLvoR8"
      },
      "source": [
        "Hal yang dapat diperhatikan\n",
        "1. secara kepuasan harga tidak terlalu berpengaruh, dilihat dari gravik di atas di mana bulatan menyebar secara merata\n",
        "2. tidak ada perbedaan yang signifikan setelah data dibersihkan"
      ]
    },
    {
      "cell_type": "code",
      "execution_count": null,
      "metadata": {
        "colab": {
          "background_save": true
        },
        "id": "xaxZGtoA-Gtd",
        "outputId": "b1141e71-760b-40cc-c4e2-dba5cc2f9832"
      },
      "outputs": [
        {
          "data": {
            "text/html": [
              "\n",
              "  <div id=\"df-26af71ff-b386-4f55-a316-85f30534f6da\">\n",
              "    <div class=\"colab-df-container\">\n",
              "      <div>\n",
              "<style scoped>\n",
              "    .dataframe tbody tr th:only-of-type {\n",
              "        vertical-align: middle;\n",
              "    }\n",
              "\n",
              "    .dataframe tbody tr th {\n",
              "        vertical-align: top;\n",
              "    }\n",
              "\n",
              "    .dataframe thead th {\n",
              "        text-align: right;\n",
              "    }\n",
              "</style>\n",
              "<table border=\"1\" class=\"dataframe\">\n",
              "  <thead>\n",
              "    <tr style=\"text-align: right;\">\n",
              "      <th></th>\n",
              "      <th>ram_gb</th>\n",
              "      <th>ssd</th>\n",
              "      <th>hdd</th>\n",
              "      <th>graphic_card_gb</th>\n",
              "      <th>warranty</th>\n",
              "      <th>latest_price</th>\n",
              "      <th>old_price</th>\n",
              "      <th>discount</th>\n",
              "      <th>star_rating</th>\n",
              "      <th>ratings</th>\n",
              "      <th>reviews</th>\n",
              "    </tr>\n",
              "  </thead>\n",
              "  <tbody>\n",
              "    <tr>\n",
              "      <th>ram_gb</th>\n",
              "      <td>1.00</td>\n",
              "      <td>0.59</td>\n",
              "      <td>-0.26</td>\n",
              "      <td>0.42</td>\n",
              "      <td>0.12</td>\n",
              "      <td>0.70</td>\n",
              "      <td>0.65</td>\n",
              "      <td>0.05</td>\n",
              "      <td>-0.16</td>\n",
              "      <td>-0.18</td>\n",
              "      <td>-0.17</td>\n",
              "    </tr>\n",
              "    <tr>\n",
              "      <th>ssd</th>\n",
              "      <td>0.59</td>\n",
              "      <td>1.00</td>\n",
              "      <td>-0.56</td>\n",
              "      <td>0.40</td>\n",
              "      <td>0.10</td>\n",
              "      <td>0.68</td>\n",
              "      <td>0.58</td>\n",
              "      <td>0.09</td>\n",
              "      <td>-0.10</td>\n",
              "      <td>-0.16</td>\n",
              "      <td>-0.15</td>\n",
              "    </tr>\n",
              "    <tr>\n",
              "      <th>hdd</th>\n",
              "      <td>-0.26</td>\n",
              "      <td>-0.56</td>\n",
              "      <td>1.00</td>\n",
              "      <td>-0.07</td>\n",
              "      <td>-0.09</td>\n",
              "      <td>-0.25</td>\n",
              "      <td>-0.28</td>\n",
              "      <td>-0.10</td>\n",
              "      <td>0.05</td>\n",
              "      <td>0.08</td>\n",
              "      <td>0.08</td>\n",
              "    </tr>\n",
              "    <tr>\n",
              "      <th>graphic_card_gb</th>\n",
              "      <td>0.42</td>\n",
              "      <td>0.40</td>\n",
              "      <td>-0.07</td>\n",
              "      <td>1.00</td>\n",
              "      <td>0.01</td>\n",
              "      <td>0.43</td>\n",
              "      <td>0.44</td>\n",
              "      <td>0.08</td>\n",
              "      <td>-0.05</td>\n",
              "      <td>-0.06</td>\n",
              "      <td>-0.06</td>\n",
              "    </tr>\n",
              "    <tr>\n",
              "      <th>warranty</th>\n",
              "      <td>0.12</td>\n",
              "      <td>0.10</td>\n",
              "      <td>-0.09</td>\n",
              "      <td>0.01</td>\n",
              "      <td>1.00</td>\n",
              "      <td>0.07</td>\n",
              "      <td>0.06</td>\n",
              "      <td>0.06</td>\n",
              "      <td>0.13</td>\n",
              "      <td>0.11</td>\n",
              "      <td>0.10</td>\n",
              "    </tr>\n",
              "    <tr>\n",
              "      <th>latest_price</th>\n",
              "      <td>0.70</td>\n",
              "      <td>0.68</td>\n",
              "      <td>-0.25</td>\n",
              "      <td>0.43</td>\n",
              "      <td>0.07</td>\n",
              "      <td>1.00</td>\n",
              "      <td>0.73</td>\n",
              "      <td>-0.19</td>\n",
              "      <td>-0.20</td>\n",
              "      <td>-0.15</td>\n",
              "      <td>-0.16</td>\n",
              "    </tr>\n",
              "    <tr>\n",
              "      <th>old_price</th>\n",
              "      <td>0.65</td>\n",
              "      <td>0.58</td>\n",
              "      <td>-0.28</td>\n",
              "      <td>0.44</td>\n",
              "      <td>0.06</td>\n",
              "      <td>0.73</td>\n",
              "      <td>1.00</td>\n",
              "      <td>0.25</td>\n",
              "      <td>-0.10</td>\n",
              "      <td>-0.14</td>\n",
              "      <td>-0.14</td>\n",
              "    </tr>\n",
              "    <tr>\n",
              "      <th>discount</th>\n",
              "      <td>0.05</td>\n",
              "      <td>0.09</td>\n",
              "      <td>-0.10</td>\n",
              "      <td>0.08</td>\n",
              "      <td>0.06</td>\n",
              "      <td>-0.19</td>\n",
              "      <td>0.25</td>\n",
              "      <td>1.00</td>\n",
              "      <td>0.07</td>\n",
              "      <td>-0.07</td>\n",
              "      <td>-0.05</td>\n",
              "    </tr>\n",
              "    <tr>\n",
              "      <th>star_rating</th>\n",
              "      <td>-0.16</td>\n",
              "      <td>-0.10</td>\n",
              "      <td>0.05</td>\n",
              "      <td>-0.05</td>\n",
              "      <td>0.13</td>\n",
              "      <td>-0.20</td>\n",
              "      <td>-0.10</td>\n",
              "      <td>0.07</td>\n",
              "      <td>1.00</td>\n",
              "      <td>0.22</td>\n",
              "      <td>0.22</td>\n",
              "    </tr>\n",
              "    <tr>\n",
              "      <th>ratings</th>\n",
              "      <td>-0.18</td>\n",
              "      <td>-0.16</td>\n",
              "      <td>0.08</td>\n",
              "      <td>-0.06</td>\n",
              "      <td>0.11</td>\n",
              "      <td>-0.15</td>\n",
              "      <td>-0.14</td>\n",
              "      <td>-0.07</td>\n",
              "      <td>0.22</td>\n",
              "      <td>1.00</td>\n",
              "      <td>0.98</td>\n",
              "    </tr>\n",
              "    <tr>\n",
              "      <th>reviews</th>\n",
              "      <td>-0.17</td>\n",
              "      <td>-0.15</td>\n",
              "      <td>0.08</td>\n",
              "      <td>-0.06</td>\n",
              "      <td>0.10</td>\n",
              "      <td>-0.16</td>\n",
              "      <td>-0.14</td>\n",
              "      <td>-0.05</td>\n",
              "      <td>0.22</td>\n",
              "      <td>0.98</td>\n",
              "      <td>1.00</td>\n",
              "    </tr>\n",
              "  </tbody>\n",
              "</table>\n",
              "</div>\n",
              "      <button class=\"colab-df-convert\" onclick=\"convertToInteractive('df-26af71ff-b386-4f55-a316-85f30534f6da')\"\n",
              "              title=\"Convert this dataframe to an interactive table.\"\n",
              "              style=\"display:none;\">\n",
              "        \n",
              "  <svg xmlns=\"http://www.w3.org/2000/svg\" height=\"24px\"viewBox=\"0 0 24 24\"\n",
              "       width=\"24px\">\n",
              "    <path d=\"M0 0h24v24H0V0z\" fill=\"none\"/>\n",
              "    <path d=\"M18.56 5.44l.94 2.06.94-2.06 2.06-.94-2.06-.94-.94-2.06-.94 2.06-2.06.94zm-11 1L8.5 8.5l.94-2.06 2.06-.94-2.06-.94L8.5 2.5l-.94 2.06-2.06.94zm10 10l.94 2.06.94-2.06 2.06-.94-2.06-.94-.94-2.06-.94 2.06-2.06.94z\"/><path d=\"M17.41 7.96l-1.37-1.37c-.4-.4-.92-.59-1.43-.59-.52 0-1.04.2-1.43.59L10.3 9.45l-7.72 7.72c-.78.78-.78 2.05 0 2.83L4 21.41c.39.39.9.59 1.41.59.51 0 1.02-.2 1.41-.59l7.78-7.78 2.81-2.81c.8-.78.8-2.07 0-2.86zM5.41 20L4 18.59l7.72-7.72 1.47 1.35L5.41 20z\"/>\n",
              "  </svg>\n",
              "      </button>\n",
              "      \n",
              "  <style>\n",
              "    .colab-df-container {\n",
              "      display:flex;\n",
              "      flex-wrap:wrap;\n",
              "      gap: 12px;\n",
              "    }\n",
              "\n",
              "    .colab-df-convert {\n",
              "      background-color: #E8F0FE;\n",
              "      border: none;\n",
              "      border-radius: 50%;\n",
              "      cursor: pointer;\n",
              "      display: none;\n",
              "      fill: #1967D2;\n",
              "      height: 32px;\n",
              "      padding: 0 0 0 0;\n",
              "      width: 32px;\n",
              "    }\n",
              "\n",
              "    .colab-df-convert:hover {\n",
              "      background-color: #E2EBFA;\n",
              "      box-shadow: 0px 1px 2px rgba(60, 64, 67, 0.3), 0px 1px 3px 1px rgba(60, 64, 67, 0.15);\n",
              "      fill: #174EA6;\n",
              "    }\n",
              "\n",
              "    [theme=dark] .colab-df-convert {\n",
              "      background-color: #3B4455;\n",
              "      fill: #D2E3FC;\n",
              "    }\n",
              "\n",
              "    [theme=dark] .colab-df-convert:hover {\n",
              "      background-color: #434B5C;\n",
              "      box-shadow: 0px 1px 3px 1px rgba(0, 0, 0, 0.15);\n",
              "      filter: drop-shadow(0px 1px 2px rgba(0, 0, 0, 0.3));\n",
              "      fill: #FFFFFF;\n",
              "    }\n",
              "  </style>\n",
              "\n",
              "      <script>\n",
              "        const buttonEl =\n",
              "          document.querySelector('#df-26af71ff-b386-4f55-a316-85f30534f6da button.colab-df-convert');\n",
              "        buttonEl.style.display =\n",
              "          google.colab.kernel.accessAllowed ? 'block' : 'none';\n",
              "\n",
              "        async function convertToInteractive(key) {\n",
              "          const element = document.querySelector('#df-26af71ff-b386-4f55-a316-85f30534f6da');\n",
              "          const dataTable =\n",
              "            await google.colab.kernel.invokeFunction('convertToInteractive',\n",
              "                                                     [key], {});\n",
              "          if (!dataTable) return;\n",
              "\n",
              "          const docLinkHtml = 'Like what you see? Visit the ' +\n",
              "            '<a target=\"_blank\" href=https://colab.research.google.com/notebooks/data_table.ipynb>data table notebook</a>'\n",
              "            + ' to learn more about interactive tables.';\n",
              "          element.innerHTML = '';\n",
              "          dataTable['output_type'] = 'display_data';\n",
              "          await google.colab.output.renderOutput(dataTable, element);\n",
              "          const docLink = document.createElement('div');\n",
              "          docLink.innerHTML = docLinkHtml;\n",
              "          element.appendChild(docLink);\n",
              "        }\n",
              "      </script>\n",
              "    </div>\n",
              "  </div>\n",
              "  "
            ],
            "text/plain": [
              "                 ram_gb   ssd   hdd  graphic_card_gb  warranty  latest_price  \\\n",
              "ram_gb             1.00  0.59 -0.26             0.42      0.12          0.70   \n",
              "ssd                0.59  1.00 -0.56             0.40      0.10          0.68   \n",
              "hdd               -0.26 -0.56  1.00            -0.07     -0.09         -0.25   \n",
              "graphic_card_gb    0.42  0.40 -0.07             1.00      0.01          0.43   \n",
              "warranty           0.12  0.10 -0.09             0.01      1.00          0.07   \n",
              "latest_price       0.70  0.68 -0.25             0.43      0.07          1.00   \n",
              "old_price          0.65  0.58 -0.28             0.44      0.06          0.73   \n",
              "discount           0.05  0.09 -0.10             0.08      0.06         -0.19   \n",
              "star_rating       -0.16 -0.10  0.05            -0.05      0.13         -0.20   \n",
              "ratings           -0.18 -0.16  0.08            -0.06      0.11         -0.15   \n",
              "reviews           -0.17 -0.15  0.08            -0.06      0.10         -0.16   \n",
              "\n",
              "                 old_price  discount  star_rating  ratings  reviews  \n",
              "ram_gb                0.65      0.05        -0.16    -0.18    -0.17  \n",
              "ssd                   0.58      0.09        -0.10    -0.16    -0.15  \n",
              "hdd                  -0.28     -0.10         0.05     0.08     0.08  \n",
              "graphic_card_gb       0.44      0.08        -0.05    -0.06    -0.06  \n",
              "warranty              0.06      0.06         0.13     0.11     0.10  \n",
              "latest_price          0.73     -0.19        -0.20    -0.15    -0.16  \n",
              "old_price             1.00      0.25        -0.10    -0.14    -0.14  \n",
              "discount              0.25      1.00         0.07    -0.07    -0.05  \n",
              "star_rating          -0.10      0.07         1.00     0.22     0.22  \n",
              "ratings              -0.14     -0.07         0.22     1.00     0.98  \n",
              "reviews              -0.14     -0.05         0.22     0.98     1.00  "
            ]
          },
          "execution_count": null,
          "metadata": {},
          "output_type": "execute_result"
        }
      ],
      "source": [
        "# Melihat hubungan dari fitur numerik menggunakan correlation \n",
        "dlc_final.corr() # syntax `corr` ini Pearson Correlation"
      ]
    },
    {
      "cell_type": "code",
      "execution_count": null,
      "metadata": {
        "colab": {
          "background_save": true
        },
        "id": "ypnos6F6-Gpl",
        "outputId": "7a43e5bb-a8d4-4c21-fbfa-d9a963edf52d"
      },
      "outputs": [
        {
          "data": {
            "image/png": "[encoded data removed]",
            "text/plain": [
              "<Figure size 720x720 with 2 Axes>"
            ]
          },
          "metadata": {},
          "output_type": "display_data"
        }
      ],
      "source": [
        "# Visualisasikan correlation coefficient di atas dengan bantuan heat map\n",
        "fig, ax = plt.subplots(figsize=(10,10)) \n",
        "sns.heatmap(dlc_final.corr(), annot=True, fmt=\".2f\", ax=ax )\n",
        "plt.show()"
      ]
    },
    {
      "cell_type": "markdown",
      "metadata": {
        "id": "dQTTMz2nAFwS"
      },
      "source": [
        "Memasukan data baru ke csv"
      ]
    },
    {
      "cell_type": "code",
      "execution_count": null,
      "metadata": {
        "colab": {
          "background_save": true
        },
        "id": "rqpoaYYr_kvE"
      },
      "outputs": [],
      "source": [
        "dlc_final.to_csv(\"data_laptop_new.csv\",index=False)"
      ]
    },
    {
      "cell_type": "markdown",
      "metadata": {
        "id": "1Xb2RyHATmF4"
      },
      "source": [
        "# Modeling "
      ]
    },
    {
      "cell_type": "markdown",
      "metadata": {
        "id": "6wEIipKsxCjE"
      },
      "source": [
        "melihat korelasi dengan latest_price"
      ]
    },
    {
      "cell_type": "code",
      "execution_count": null,
      "metadata": {
        "colab": {
          "background_save": true
        },
        "id": "4TwyHM8rw9kU",
        "outputId": "e6b79de3-1d08-4ad0-9274-f59c946ecb3e"
      },
      "outputs": [
        {
          "data": {
            "text/plain": [
              "hdd               -0.25\n",
              "star_rating       -0.20\n",
              "discount          -0.19\n",
              "reviews           -0.16\n",
              "ratings           -0.15\n",
              "warranty           0.07\n",
              "graphic_card_gb    0.43\n",
              "ssd                0.68\n",
              "ram_gb             0.70\n",
              "old_price          0.73\n",
              "latest_price       1.00\n",
              "Name: latest_price, dtype: float64"
            ]
          },
          "execution_count": null,
          "metadata": {},
          "output_type": "execute_result"
        }
      ],
      "source": [
        "dlc_final.corr()['latest_price'].sort_values() # korelasi pearson product moment"
      ]
    },
    {
      "cell_type": "markdown",
      "metadata": {
        "id": "_fqaF6dBxXQS"
      },
      "source": [
        "Kita dapat memakai model linear regression menggunakan fitur 'warranty' dan menghitung R^2."
      ]
    },
    {
      "cell_type": "code",
      "execution_count": null,
      "metadata": {
        "colab": {
          "background_save": true
        },
        "id": "Rz5FJ0uOUXGR",
        "outputId": "af9e8416-b24b-4e2f-a02d-6ac146b6e365"
      },
      "outputs": [
        {
          "data": {
            "text/plain": [
              "0.004600120411593855"
            ]
          },
          "execution_count": null,
          "metadata": {},
          "output_type": "execute_result"
        }
      ],
      "source": [
        "X = dlc_final[['warranty']] #independent\n",
        "Y = dlc_final['latest_price'] #dependent\n",
        "lm = LinearRegression() #diimport di atas\n",
        "lm.fit(X,Y)\n",
        "lm.score(X, Y) #R2 Akurasi"
      ]
    },
    {
      "cell_type": "markdown",
      "metadata": {
        "id": "ZvKLpKYSxke6"
      },
      "source": [
        "Gunakan model linear regression untuk memprediksi 'latest_price' dengan menggunakan fitur 'graphic_card_gb' kemudian hitung R^2."
      ]
    },
    {
      "cell_type": "code",
      "execution_count": null,
      "metadata": {
        "colab": {
          "background_save": true
        },
        "id": "ROibUVMBEyZJ",
        "outputId": "b67ecc41-415b-4038-b740-de32216315ba"
      },
      "outputs": [
        {
          "data": {
            "text/plain": [
              "0.18472320114680674"
            ]
          },
          "execution_count": null,
          "metadata": {},
          "output_type": "execute_result"
        }
      ],
      "source": [
        "x=dlc_final[['graphic_card_gb']]\n",
        "y=dlc_final.latest_price\n",
        "lr=LinearRegression()\n",
        "lr.fit(x,y)\n",
        "lr.score(x,y)"
      ]
    },
    {
      "cell_type": "markdown",
      "metadata": {
        "id": "SZXhTtv3yJjQ"
      },
      "source": [
        "Gunakan model linear regression untuk memprediksi 'price' menggunakan daftar fitur sbb:"
      ]
    },
    {
      "cell_type": "code",
      "execution_count": null,
      "metadata": {
        "colab": {
          "background_save": true
        },
        "id": "nKMMOMB-yIs7"
      },
      "outputs": [],
      "source": [
        "features =[\"graphic_card_gb\", \"ssd\", 'ram_gb','hdd','warranty', 'discount', 'old_price'] #menyipan semua variabel berhubungan di variabel features"
      ]
    },
    {
      "cell_type": "markdown",
      "metadata": {
        "id": "kkFjEqL0y6Ka"
      },
      "source": [
        "Kemudian hitung R^2."
      ]
    },
    {
      "cell_type": "code",
      "execution_count": null,
      "metadata": {
        "colab": {
          "background_save": true
        },
        "id": "pP-Errdey59T",
        "outputId": "9841a6cc-efeb-4a73-f4f9-0ae674c94f6e"
      },
      "outputs": [
        {
          "data": {
            "text/plain": [
              "0.8025126718623783"
            ]
          },
          "execution_count": null,
          "metadata": {},
          "output_type": "execute_result"
        }
      ],
      "source": [
        "x=dlc_final[features]\n",
        "y=dlc_final.latest_price\n",
        "lr.fit(x,y)\n",
        "lr.score(x,y)"
      ]
    },
    {
      "cell_type": "markdown",
      "metadata": {
        "id": "Gl5wq-BxzKPh"
      },
      "source": [
        ">Buatlah list of tuples, dengan elemen pertama dari tuple berisikan nama dari estimator: \n",
        ">>'scale'\n",
        "\n",
        ">>'polynomial'\n",
        "\n",
        ">>'model'\n",
        "\n",
        ">Dan elemen kedua dari tuple berisi model constructor\n",
        "\n",
        ">>StandardScaler()\n",
        "\n",
        ">>PolynomialFeatures(include_bias=False)\n",
        "\n",
        ">>LinearRegression()"
      ]
    },
    {
      "cell_type": "code",
      "execution_count": null,
      "metadata": {
        "colab": {
          "background_save": true
        },
        "id": "slwwqM2ZzICQ"
      },
      "outputs": [],
      "source": [
        "Input=[('scale',StandardScaler()),('polynomial', PolynomialFeatures(include_bias=False)),('model',LinearRegression())]"
      ]
    },
    {
      "cell_type": "markdown",
      "metadata": {
        "id": "FN6w_Ibfz5uS"
      },
      "source": [
        "Gunakan list tsb untuk membuat pipeline object untuk memprediksi 'price', fit object tsb menggunakan features di dalam list features, dan hitung R^2."
      ]
    },
    {
      "cell_type": "code",
      "execution_count": null,
      "metadata": {
        "colab": {
          "background_save": true
        },
        "id": "oEM82TjvzI0k",
        "outputId": "d31acb5c-7a5b-4576-a425-a3798e505e02"
      },
      "outputs": [
        {
          "data": {
            "text/plain": [
              "0.9302111403510148"
            ]
          },
          "execution_count": null,
          "metadata": {},
          "output_type": "execute_result"
        }
      ],
      "source": [
        "x=dlc_final[features]\n",
        "y=dlc_final.latest_price\n",
        "pipe=Pipeline(Input)\n",
        "pipe.fit(x,y) #train seluruh data\n",
        "pipe.score(x,y) #akurasi train"
      ]
    },
    {
      "cell_type": "markdown",
      "metadata": {
        "id": "v4w2vZO_TmAC"
      },
      "source": [
        "# Evaluation"
      ]
    },
    {
      "cell_type": "markdown",
      "metadata": {
        "id": "drZXwFbQ5b2o"
      },
      "source": [
        "Import modules yang diperlukan, yaitu:"
      ]
    },
    {
      "cell_type": "code",
      "execution_count": null,
      "metadata": {
        "colab": {
          "background_save": true
        },
        "id": "1LdzSgWCUR1R",
        "outputId": "4b561b95-0a35-44cd-b57a-f64d3050d775"
      },
      "outputs": [
        {
          "name": "stdout",
          "output_type": "stream",
          "text": [
            "done\n"
          ]
        }
      ],
      "source": [
        "from sklearn.model_selection import cross_val_score\n",
        "from sklearn.model_selection import train_test_split\n",
        "from sklearn.linear_model import Ridge\n",
        "print(\"done\")"
      ]
    },
    {
      "cell_type": "markdown",
      "metadata": {
        "id": "7sTl2fTF5tGx"
      },
      "source": [
        "Selanjutnya, data dibagi menjadi training dan testing sets."
      ]
    },
    {
      "cell_type": "code",
      "execution_count": null,
      "metadata": {
        "colab": {
          "background_save": true
        },
        "id": "uxHZqqghmv3Y",
        "outputId": "3729f0d4-b4b1-4c44-e780-e7b7ab7a1ed7"
      },
      "outputs": [
        {
          "name": "stdout",
          "output_type": "stream",
          "text": [
            "number of training samples: 664\n",
            "number of test samples: 167\n"
          ]
        }
      ],
      "source": [
        "features =[\"graphic_card_gb\", \"ssd\", 'ram_gb','hdd','warranty', 'discount', 'old_price']    \n",
        "X = dlc_final[features]\n",
        "Y = dlc_final['latest_price']\n",
        "\n",
        "x_train, x_test, y_train, y_test = train_test_split(X, Y, test_size=0.2, random_state=1)\n",
        "\n",
        "print(\"number of training samples:\",x_train.shape[0])\n",
        "print(\"number of test samples:\", x_test.shape[0])"
      ]
    },
    {
      "cell_type": "markdown",
      "metadata": {
        "id": "LCo0CPpv21lE"
      },
      "source": [
        "Membuat Ridge regression object menggunakan training data, dengan alpha=0.1. Kemudian menghitung R^2 menggunakan test data."
      ]
    },
    {
      "cell_type": "code",
      "execution_count": null,
      "metadata": {
        "colab": {
          "background_save": true
        },
        "id": "jY5qVs58nEO5",
        "outputId": "31ea602f-5e9a-41ba-d2dd-5a7935cbf7ab"
      },
      "outputs": [
        {
          "data": {
            "text/plain": [
              "0.852117770949773"
            ]
          },
          "execution_count": null,
          "metadata": {},
          "output_type": "execute_result"
        }
      ],
      "source": [
        "rm=Ridge(alpha=0.1)\n",
        "rm.fit(x_train,y_train)\n",
        "rm.score(x_test,y_test)"
      ]
    },
    {
      "cell_type": "markdown",
      "metadata": {
        "id": "q-W0NsZb4Qkl"
      },
      "source": [
        "Melakukan transformasi second order polynomial pada training data dan testing data, dengan alpha=0.1. Kemudian menghitung R^2 menggunakan test data."
      ]
    },
    {
      "cell_type": "code",
      "execution_count": null,
      "metadata": {
        "colab": {
          "background_save": true
        },
        "id": "aE5lzWrp6ZZK",
        "outputId": "b054df83-db4e-49f2-fe20-ba6c00264a2c"
      },
      "outputs": [
        {
          "name": "stderr",
          "output_type": "stream",
          "text": [
            "/usr/local/lib/python3.7/dist-packages/sklearn/linear_model/_ridge.py:157: LinAlgWarning: Ill-conditioned matrix (rcond=7.94397e-25): result may not be accurate.\n",
            "  return linalg.solve(A, Xy, sym_pos=True, overwrite_a=True).T\n"
          ]
        },
        {
          "data": {
            "text/plain": [
              "0.8664271781827122"
            ]
          },
          "execution_count": null,
          "metadata": {},
          "output_type": "execute_result"
        }
      ],
      "source": [
        "pr=PolynomialFeatures(degree=2) \n",
        "x_train_pr=pr.fit_transform(x_train) \n",
        "x_test_pr=pr.fit_transform(x_test) \n",
        "\n",
        "rr=Ridge(alpha=0.1) \n",
        "rr.fit(x_train_pr,y_train)\n",
        "rr.score(x_test_pr,y_test)"
      ]
    }
  ],
  "metadata": {
    "colab": {
      "collapsed_sections": [
        "b5s4gyB2Tlyw"
      ],
      "name": "[FINAL ASSIGNMENT - SC] Introduction to Data Analytics for Business.ipynb",
      "provenance": [],
      "toc_visible": true
    },
    "kernelspec": {
      "display_name": "Python 3",
      "name": "python3"
    },
    "language_info": {
      "name": "python"
    }
  },
  "nbformat": 4,
  "nbformat_minor": 0
}